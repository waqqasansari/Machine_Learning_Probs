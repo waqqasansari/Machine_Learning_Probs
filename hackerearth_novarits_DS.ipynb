{
  "nbformat": 4,
  "nbformat_minor": 0,
  "metadata": {
    "colab": {
      "name": "hackerearth_novarits_DS.ipynb",
      "provenance": [],
      "collapsed_sections": [],
      "toc_visible": true,
      "authorship_tag": "ABX9TyNtMlrg2CpQ6F8HCKoaTENC",
      "include_colab_link": true
    },
    "kernelspec": {
      "name": "python3",
      "display_name": "Python 3"
    },
    "accelerator": "GPU"
  },
  "cells": [
    {
      "cell_type": "markdown",
      "metadata": {
        "id": "view-in-github",
        "colab_type": "text"
      },
      "source": [
        "<a href=\"https://colab.research.google.com/github/waqqasansari/Machine_Learning_Probs/blob/master/hackerearth_novarits_DS.ipynb\" target=\"_parent\"><img src=\"https://colab.research.google.com/assets/colab-badge.svg\" alt=\"Open In Colab\"/></a>"
      ]
    },
    {
      "cell_type": "code",
      "metadata": {
        "id": "DSKmgzR1h1B0",
        "colab_type": "code",
        "colab": {}
      },
      "source": [
        "import pandas as pd\n",
        "import numpy as np\n",
        "import matplotlib.pyplot as plt\n",
        "import seaborn as sns\n",
        "import warnings\n",
        "\n",
        "import xgboost as xgb\n",
        "from sklearn.metrics import accuracy_score, classification_report, confusion_matrix\n",
        "\n",
        "import warnings\n",
        "warnings.filterwarnings('ignore')"
      ],
      "execution_count": 17,
      "outputs": []
    },
    {
      "cell_type": "code",
      "metadata": {
        "id": "bqSwY4Ihih3S",
        "colab_type": "code",
        "colab": {
          "base_uri": "https://localhost:8080/",
          "height": 50
        },
        "outputId": "4c5f0df1-f13f-4b55-9bcf-575944b52501"
      },
      "source": [
        "train_data = pd.read_csv('Train.csv')\n",
        "test_data = pd.read_csv('Test.csv')\n",
        "\n",
        "print(\"The shape of training data is ->>\", train_data.shape)\n",
        "print(\"The shape of training data is ->>\", test_data.shape)"
      ],
      "execution_count": 2,
      "outputs": [
        {
          "output_type": "stream",
          "text": [
            "The shape of training data is ->> (23856, 18)\n",
            "The shape of training data is ->> (15903, 17)\n"
          ],
          "name": "stdout"
        }
      ]
    },
    {
      "cell_type": "code",
      "metadata": {
        "id": "V5_wGvBGjGln",
        "colab_type": "code",
        "colab": {
          "base_uri": "https://localhost:8080/",
          "height": 277
        },
        "outputId": "49286b89-b92a-42cb-f382-f8ee76ca821f"
      },
      "source": [
        "print(train_data.head(5))\n",
        "print(test_data.head(5))"
      ],
      "execution_count": 3,
      "outputs": [
        {
          "output_type": "stream",
          "text": [
            "  INCIDENT_ID       DATE  X_1  X_2  ...  X_13  X_14  X_15  MULTIPLE_OFFENSE\n",
            "0   CR_102659  04-JUL-04    0   36  ...    92    29    36                 0\n",
            "1   CR_189752  18-JUL-17    1   37  ...   103   142    34                 1\n",
            "2   CR_184637  15-MAR-17    0    3  ...   110    93    34                 1\n",
            "3   CR_139071  13-FEB-09    0   33  ...    72    29    34                 1\n",
            "4   CR_109335  13-APR-05    0   33  ...   112    29    43                 1\n",
            "\n",
            "[5 rows x 18 columns]\n",
            "  INCIDENT_ID       DATE  X_1  X_2  X_3  ...  X_11  X_12  X_13  X_14  X_15\n",
            "0   CR_195453  01-FEB-18    0   30   35  ...   174   NaN    72   119    23\n",
            "1   CR_103520  05-MAR-04    0   44   44  ...   316   0.0    12    29    34\n",
            "2   CR_196089  27-JAN-18    0   34   33  ...   316   1.0    72     0    34\n",
            "3   CR_112195  18-AUG-06    7    3    2  ...   174   1.0   112    87    34\n",
            "4   CR_149832  31-OCT-11    0    7    8  ...   174   0.0   112    93    43\n",
            "\n",
            "[5 rows x 17 columns]\n"
          ],
          "name": "stdout"
        }
      ]
    },
    {
      "cell_type": "code",
      "metadata": {
        "id": "lCFDaKtijZBI",
        "colab_type": "code",
        "colab": {
          "base_uri": "https://localhost:8080/",
          "height": 50
        },
        "outputId": "44d69f95-eefc-4785-eaed-211374260f87"
      },
      "source": [
        "#check for the nan values\n",
        "print(train_data.isnull().values.any())\n",
        "print(test_data.isnull().values.any())"
      ],
      "execution_count": 4,
      "outputs": [
        {
          "output_type": "stream",
          "text": [
            "True\n",
            "True\n"
          ],
          "name": "stdout"
        }
      ]
    },
    {
      "cell_type": "code",
      "metadata": {
        "id": "EJgMvX95j-mH",
        "colab_type": "code",
        "colab": {
          "base_uri": "https://localhost:8080/",
          "height": 553
        },
        "outputId": "f228d2be-9784-4a1d-b1bb-160ff33fc4b0"
      },
      "source": [
        "print(train_data.mean())\n",
        "print(test_data.mean())"
      ],
      "execution_count": 5,
      "outputs": [
        {
          "output_type": "stream",
          "text": [
            "X_1                   0.483778\n",
            "X_2                  24.791206\n",
            "X_3                  24.637450\n",
            "X_4                   4.276744\n",
            "X_5                   2.455609\n",
            "X_6                   6.154175\n",
            "X_7                   4.876509\n",
            "X_8                   0.972460\n",
            "X_9                   4.924128\n",
            "X_10                  1.244802\n",
            "X_11                206.954519\n",
            "X_12                  0.974064\n",
            "X_13                 85.237383\n",
            "X_14                 72.674296\n",
            "X_15                 33.464747\n",
            "MULTIPLE_OFFENSE      0.955231\n",
            "dtype: float64\n",
            "X_1       0.468088\n",
            "X_2      24.722631\n",
            "X_3      24.575049\n",
            "X_4       4.284223\n",
            "X_5       2.448469\n",
            "X_6       6.084890\n",
            "X_7       4.862605\n",
            "X_8       0.986732\n",
            "X_9       4.908759\n",
            "X_10      1.241212\n",
            "X_11    206.954097\n",
            "X_12      0.972236\n",
            "X_13     85.191096\n",
            "X_14     72.218575\n",
            "X_15     33.422625\n",
            "dtype: float64\n"
          ],
          "name": "stdout"
        }
      ]
    },
    {
      "cell_type": "code",
      "metadata": {
        "id": "tRHLrVQDkwo0",
        "colab_type": "code",
        "colab": {}
      },
      "source": [
        "train_data = train_data.fillna(train_data.mean())\n",
        "test_data = test_data.fillna(test_data.mean())"
      ],
      "execution_count": 6,
      "outputs": []
    },
    {
      "cell_type": "code",
      "metadata": {
        "id": "v9HW5Yael94t",
        "colab_type": "code",
        "colab": {
          "base_uri": "https://localhost:8080/",
          "height": 50
        },
        "outputId": "bebc0d0b-1669-4097-9b8f-5c8f52161f17"
      },
      "source": [
        "#again check whether Nan value is present or not\n",
        "print(train_data.isnull().values.any())\n",
        "print(test_data.isnull().values.any())"
      ],
      "execution_count": 7,
      "outputs": [
        {
          "output_type": "stream",
          "text": [
            "False\n",
            "False\n"
          ],
          "name": "stdout"
        }
      ]
    },
    {
      "cell_type": "markdown",
      "metadata": {
        "id": "wMy-J3tqm-Qg",
        "colab_type": "text"
      },
      "source": [
        "##EDA"
      ]
    },
    {
      "cell_type": "code",
      "metadata": {
        "id": "eDbbt1EinBbd",
        "colab_type": "code",
        "colab": {
          "base_uri": "https://localhost:8080/",
          "height": 472
        },
        "outputId": "9438f0b1-89ad-42f6-8811-e2ffb66bf122"
      },
      "source": [
        "off0 = train_data.loc[train_data['MULTIPLE_OFFENSE'] == 0]\n",
        "off1 = train_data.loc[train_data['MULTIPLE_OFFENSE'] == 1]\n",
        "\n",
        "print(off0)\n",
        "print(off1)"
      ],
      "execution_count": 8,
      "outputs": [
        {
          "output_type": "stream",
          "text": [
            "      INCIDENT_ID       DATE  X_1  X_2  ...  X_13  X_14  X_15  MULTIPLE_OFFENSE\n",
            "0       CR_102659  04-JUL-04    0   36  ...    92    29    36                 0\n",
            "9        CR_32634  25-AUG-96    1    4  ...   103    29    34                 0\n",
            "44       CR_31819  07-OCT-95    0   48  ...   103    62    34                 0\n",
            "47      CR_156814  21-JUL-12    0   21  ...   103    80    34                 0\n",
            "136      CR_47976  03-AUG-97    0   43  ...   109   124     9                 0\n",
            "...           ...        ...  ...  ...  ...   ...   ...   ...               ...\n",
            "23732    CR_42135  18-FEB-97    1    4  ...   103   119    34                 0\n",
            "23805    CR_31988  24-OCT-95    0   49  ...    72    93    39                 0\n",
            "23806   CR_123790  24-APR-07    0   30  ...   103    29    34                 0\n",
            "23823    CR_63961  13-DEC-99    1   47  ...    67     6     9                 0\n",
            "23825    CR_33573  25-FEB-96    0    4  ...    92    29    34                 0\n",
            "\n",
            "[1068 rows x 18 columns]\n",
            "      INCIDENT_ID       DATE  X_1  X_2  ...  X_13  X_14  X_15  MULTIPLE_OFFENSE\n",
            "1       CR_189752  18-JUL-17    1   37  ...   103   142    34                 1\n",
            "2       CR_184637  15-MAR-17    0    3  ...   110    93    34                 1\n",
            "3       CR_139071  13-FEB-09    0   33  ...    72    29    34                 1\n",
            "4       CR_109335  13-APR-05    0   33  ...   112    29    43                 1\n",
            "5        CR_96263  07-APR-03    0   45  ...    72    62    34                 1\n",
            "...           ...        ...  ...  ...  ...   ...   ...   ...               ...\n",
            "23851    CR_88991  11-JAN-02    1   47  ...    98    29    34                 1\n",
            "23852    CR_46369  05-FEB-97    0   33  ...   112    29    43                 1\n",
            "23853   CR_157556  03-APR-12    0   25  ...    10    29    18                 1\n",
            "23854   CR_103180  25-JAN-04    0   39  ...   112   103    43                 1\n",
            "23855    CR_22575  08-NOV-94    7   36  ...    92    29    34                 1\n",
            "\n",
            "[22788 rows x 18 columns]\n"
          ],
          "name": "stdout"
        }
      ]
    },
    {
      "cell_type": "code",
      "metadata": {
        "id": "flRuPMSSpCu8",
        "colab_type": "code",
        "colab": {
          "base_uri": "https://localhost:8080/",
          "height": 368
        },
        "outputId": "1c57c7f3-48bd-450e-aa96-108e8acd5f52"
      },
      "source": [
        "sns.FacetGrid(train_data, hue=\"MULTIPLE_OFFENSE\", height=5) \\\n",
        "   .map(sns.distplot, \"MULTIPLE_OFFENSE\") \\\n",
        "   .add_legend()\n",
        "plt.show()"
      ],
      "execution_count": 9,
      "outputs": [
        {
          "output_type": "display_data",
          "data": {
            "image/png": "[encoded data removed]",
            "text/plain": [
              "<Figure size 465.25x360 with 1 Axes>"
            ]
          },
          "metadata": {
            "tags": [],
            "needs_background": "light"
          }
        }
      ]
    },
    {
      "cell_type": "code",
      "metadata": {
        "id": "SCXR7T_nw9bO",
        "colab_type": "code",
        "colab": {
          "base_uri": "https://localhost:8080/",
          "height": 296
        },
        "outputId": "d3c02991-094c-4f07-9e58-6c7b8130e73c"
      },
      "source": [
        "train_data.plot(kind=\"scatter\", x='X_12', y='MULTIPLE_OFFENSE')"
      ],
      "execution_count": 10,
      "outputs": [
        {
          "output_type": "execute_result",
          "data": {
            "text/plain": [
              "<matplotlib.axes._subplots.AxesSubplot at 0x7f5444f0f940>"
            ]
          },
          "metadata": {
            "tags": []
          },
          "execution_count": 10
        },
        {
          "output_type": "display_data",
          "data": {
            "image/png": "[encoded data removed]",
            "text/plain": [
              "<Figure size 432x288 with 1 Axes>"
            ]
          },
          "metadata": {
            "tags": [],
            "needs_background": "light"
          }
        }
      ]
    },
    {
      "cell_type": "code",
      "metadata": {
        "id": "Vq6CHyz3x0jM",
        "colab_type": "code",
        "colab": {
          "base_uri": "https://localhost:8080/",
          "height": 296
        },
        "outputId": "46567419-7284-4dd7-eee9-75b58fedaa0c"
      },
      "source": [
        "train_data.plot(kind=\"scatter\", x='X_10', y='MULTIPLE_OFFENSE')"
      ],
      "execution_count": 11,
      "outputs": [
        {
          "output_type": "execute_result",
          "data": {
            "text/plain": [
              "<matplotlib.axes._subplots.AxesSubplot at 0x7f5444e7e0b8>"
            ]
          },
          "metadata": {
            "tags": []
          },
          "execution_count": 11
        },
        {
          "output_type": "display_data",
          "data": {
            "image/png": "[encoded data removed]",
            "text/plain": [
              "<Figure size 432x288 with 1 Axes>"
            ]
          },
          "metadata": {
            "tags": [],
            "needs_background": "light"
          }
        }
      ]
    },
    {
      "cell_type": "code",
      "metadata": {
        "id": "gOZA0CmBx0Mz",
        "colab_type": "code",
        "colab": {
          "base_uri": "https://localhost:8080/",
          "height": 296
        },
        "outputId": "5002389d-9d7d-4fae-c6fa-07b451e71fb7"
      },
      "source": [
        "sns.countplot(x=\"MULTIPLE_OFFENSE\", data=train_data)"
      ],
      "execution_count": 13,
      "outputs": [
        {
          "output_type": "execute_result",
          "data": {
            "text/plain": [
              "<matplotlib.axes._subplots.AxesSubplot at 0x7f5444e596a0>"
            ]
          },
          "metadata": {
            "tags": []
          },
          "execution_count": 13
        },
        {
          "output_type": "display_data",
          "data": {
            "image/png": "[encoded data removed]",
            "text/plain": [
              "<Figure size 432x288 with 1 Axes>"
            ]
          },
          "metadata": {
            "tags": [],
            "needs_background": "light"
          }
        }
      ]
    },
    {
      "cell_type": "markdown",
      "metadata": {
        "id": "U7-3K5BxzhSs",
        "colab_type": "text"
      },
      "source": [
        "##data is highly unbalanced"
      ]
    },
    {
      "cell_type": "code",
      "metadata": {
        "id": "LGGdx3hWzIP_",
        "colab_type": "code",
        "colab": {
          "base_uri": "https://localhost:8080/",
          "height": 296
        },
        "outputId": "cebbbfff-9980-411d-8b9a-4b9db8ff7134"
      },
      "source": [
        "sns.countplot(x=\"X_1\", data=train_data)"
      ],
      "execution_count": 14,
      "outputs": [
        {
          "output_type": "execute_result",
          "data": {
            "text/plain": [
              "<matplotlib.axes._subplots.AxesSubplot at 0x7f5444d64438>"
            ]
          },
          "metadata": {
            "tags": []
          },
          "execution_count": 14
        },
        {
          "output_type": "display_data",
          "data": {
            "image/png": "[encoded data removed]",
            "text/plain": [
              "<Figure size 432x288 with 1 Axes>"
            ]
          },
          "metadata": {
            "tags": [],
            "needs_background": "light"
          }
        }
      ]
    },
    {
      "cell_type": "code",
      "metadata": {
        "id": "P_SswkhizYDd",
        "colab_type": "code",
        "colab": {}
      },
      "source": [
        "train_data.drop(['INCIDENT_ID','DATE'],axis=1,inplace=True)\n",
        "test_data.drop(['INCIDENT_ID','DATE'],axis=1,inplace=True)"
      ],
      "execution_count": 15,
      "outputs": []
    },
    {
      "cell_type": "code",
      "metadata": {
        "id": "92nJuR5u0ka9",
        "colab_type": "code",
        "colab": {
          "base_uri": "https://localhost:8080/",
          "height": 245
        },
        "outputId": "e50c5cb4-1e8a-4ca4-a325-fb3b7bd39405"
      },
      "source": [
        "print(train_data.head(4))\n",
        "print(test_data.head(4))"
      ],
      "execution_count": 16,
      "outputs": [
        {
          "output_type": "stream",
          "text": [
            "   X_1  X_2  X_3  X_4  X_5  X_6  ...  X_11  X_12  X_13  X_14  X_15  MULTIPLE_OFFENSE\n",
            "0    0   36   34    2    1    5  ...   174   1.0    92    29    36                 0\n",
            "1    1   37   37    0    0   11  ...   236   1.0   103   142    34                 1\n",
            "2    0    3    2    3    5    1  ...   174   1.0   110    93    34                 1\n",
            "3    0   33   32    2    1    7  ...   249   1.0    72    29    34                 1\n",
            "\n",
            "[4 rows x 16 columns]\n",
            "   X_1  X_2  X_3  X_4  X_5  X_6  ...  X_10  X_11      X_12  X_13  X_14  X_15\n",
            "0    0   30   35    7    3    6  ...     1   174  0.972236    72   119    23\n",
            "1    0   44   44    1    3    7  ...     1   316  0.000000    12    29    34\n",
            "2    0   34   33    3    5    2  ...     1   316  1.000000    72     0    34\n",
            "3    7    3    2    3    5    9  ...     1   174  1.000000   112    87    34\n",
            "\n",
            "[4 rows x 15 columns]\n"
          ],
          "name": "stdout"
        }
      ]
    },
    {
      "cell_type": "code",
      "metadata": {
        "id": "aJZrKYiw0tXv",
        "colab_type": "code",
        "colab": {
          "base_uri": "https://localhost:8080/",
          "height": 627
        },
        "outputId": "4846f6ee-0176-4991-cda3-09e1021d4593"
      },
      "source": [
        "corr = train_data.corr()\n",
        "\n",
        "f,ax = plt.subplots(figsize=(12,9))\n",
        "sns.heatmap(corr, annot = True, linewidths=1.5 , fmt = '.2f',ax=ax)\n",
        "plt.show()"
      ],
      "execution_count": 18,
      "outputs": [
        {
          "output_type": "display_data",
          "data": {
            "image/png": "[encoded data removed]",
            "text/plain": [
              "<Figure size 864x648 with 2 Axes>"
            ]
          },
          "metadata": {
            "tags": [],
            "needs_background": "light"
          }
        }
      ]
    },
    {
      "cell_type": "code",
      "metadata": {
        "id": "fq05UKhk1WOk",
        "colab_type": "code",
        "colab": {}
      },
      "source": [
        "from sklearn.preprocessing import StandardScaler\n",
        "scaler = StandardScaler()\n",
        "\n",
        "\n",
        "scaler.fit(train_data.drop('MULTIPLE_OFFENSE',axis=1))\n",
        "scaled_features = scaler.transform(train_data.drop('MULTIPLE_OFFENSE',axis=1))\n",
        "X_train_sc = pd.DataFrame(scaled_features, columns=train_data.columns[:-1])\n",
        "\n",
        "scaled_features = scaler.transform(test_data)\n",
        "test_sc = pd.DataFrame(scaled_features, columns = test_data.columns)"
      ],
      "execution_count": 19,
      "outputs": []
    },
    {
      "cell_type": "code",
      "metadata": {
        "id": "sFS1dMQN278J",
        "colab_type": "code",
        "colab": {}
      },
      "source": [
        "train_data"
      ],
      "execution_count": null,
      "outputs": []
    },
    {
      "cell_type": "code",
      "metadata": {
        "id": "qSbqnsA_2iYG",
        "colab_type": "code",
        "colab": {}
      },
      "source": [
        "from sklearn.model_selection import train_test_split\n",
        "\n",
        "X_train, X_test, y_train, y_test = train_test_split(train_data.drop('MULTIPLE_OFFENSE',axis=1), train_data['MULTIPLE_OFFENSE'], test_size=0.30, random_state=101)\n",
        "X_train_sc, X_test_sc, y_train_sc, y_test_sc = train_test_split(X_train_sc, train_data['MULTIPLE_OFFENSE'], test_size=0.30, random_state=101)"
      ],
      "execution_count": 23,
      "outputs": []
    },
    {
      "cell_type": "code",
      "metadata": {
        "id": "TPF906gI3GVp",
        "colab_type": "code",
        "colab": {
          "base_uri": "https://localhost:8080/",
          "height": 212
        },
        "outputId": "fe9c65f5-2a60-4b98-a70d-04b21702cdf5"
      },
      "source": [
        "clf = xgb.XGBClassifier(learning_rate=0.1, max_depth = len(train_data['MULTIPLE_OFFENSE']))\n",
        "\n",
        "clf.fit(X_train, y_train)\n",
        "pred_xgbc = clf.predict(X_test)\n",
        "print(confusion_matrix(y_test, pred_xgbc))\n",
        "print(classification_report(y_test, pred_xgbc))\n",
        "print(accuracy_score(y_test, pred_xgbc))"
      ],
      "execution_count": 24,
      "outputs": [
        {
          "output_type": "stream",
          "text": [
            "[[ 311   11]\n",
            " [   3 6832]]\n",
            "              precision    recall  f1-score   support\n",
            "\n",
            "           0       0.99      0.97      0.98       322\n",
            "           1       1.00      1.00      1.00      6835\n",
            "\n",
            "    accuracy                           1.00      7157\n",
            "   macro avg       0.99      0.98      0.99      7157\n",
            "weighted avg       1.00      1.00      1.00      7157\n",
            "\n",
            "0.9980438731312002\n"
          ],
          "name": "stdout"
        }
      ]
    },
    {
      "cell_type": "code",
      "metadata": {
        "id": "PHHrw0ij3iZf",
        "colab_type": "code",
        "colab": {
          "base_uri": "https://localhost:8080/",
          "height": 212
        },
        "outputId": "e8ef65f2-a336-4708-dd05-9d98ff14f451"
      },
      "source": [
        "clf = xgb.XGBClassifier(learning_rate=0.53, max_depth = len(train_data['MULTIPLE_OFFENSE']))\n",
        "\n",
        "clf.fit(X_train_sc, y_train_sc)\n",
        "pred_xgbc = clf.predict(X_test_sc)\n",
        "print(confusion_matrix(y_test, pred_xgbc))\n",
        "print(classification_report(y_test_sc, pred_xgbc))\n",
        "print(accuracy_score(y_test_sc, pred_xgbc))"
      ],
      "execution_count": 27,
      "outputs": [
        {
          "output_type": "stream",
          "text": [
            "[[ 316    6]\n",
            " [   3 6832]]\n",
            "              precision    recall  f1-score   support\n",
            "\n",
            "           0       0.99      0.98      0.99       322\n",
            "           1       1.00      1.00      1.00      6835\n",
            "\n",
            "    accuracy                           1.00      7157\n",
            "   macro avg       0.99      0.99      0.99      7157\n",
            "weighted avg       1.00      1.00      1.00      7157\n",
            "\n",
            "0.9987424898700573\n"
          ],
          "name": "stdout"
        }
      ]
    },
    {
      "cell_type": "code",
      "metadata": {
        "id": "RBvOFzUR7EB0",
        "colab_type": "code",
        "colab": {
          "base_uri": "https://localhost:8080/",
          "height": 391
        },
        "outputId": "2ba4befc-e75f-4b7b-d1dd-7d7e5502b452"
      },
      "source": [
        "test_data"
      ],
      "execution_count": 33,
      "outputs": [
        {
          "output_type": "execute_result",
          "data": {
            "text/html": [
              "<div>\n",
              "<style scoped>\n",
              "    .dataframe tbody tr th:only-of-type {\n",
              "        vertical-align: middle;\n",
              "    }\n",
              "\n",
              "    .dataframe tbody tr th {\n",
              "        vertical-align: top;\n",
              "    }\n",
              "\n",
              "    .dataframe thead th {\n",
              "        text-align: right;\n",
              "    }\n",
              "</style>\n",
              "<table border=\"1\" class=\"dataframe\">\n",
              "  <thead>\n",
              "    <tr style=\"text-align: right;\">\n",
              "      <th></th>\n",
              "      <th>X_1</th>\n",
              "      <th>X_2</th>\n",
              "      <th>X_3</th>\n",
              "      <th>X_4</th>\n",
              "      <th>X_5</th>\n",
              "      <th>X_6</th>\n",
              "      <th>X_7</th>\n",
              "      <th>X_8</th>\n",
              "      <th>X_9</th>\n",
              "      <th>X_10</th>\n",
              "      <th>X_11</th>\n",
              "      <th>X_12</th>\n",
              "      <th>X_13</th>\n",
              "      <th>X_14</th>\n",
              "      <th>X_15</th>\n",
              "    </tr>\n",
              "  </thead>\n",
              "  <tbody>\n",
              "    <tr>\n",
              "      <th>0</th>\n",
              "      <td>0</td>\n",
              "      <td>30</td>\n",
              "      <td>35</td>\n",
              "      <td>7</td>\n",
              "      <td>3</td>\n",
              "      <td>6</td>\n",
              "      <td>4</td>\n",
              "      <td>0</td>\n",
              "      <td>5</td>\n",
              "      <td>1</td>\n",
              "      <td>174</td>\n",
              "      <td>0.972236</td>\n",
              "      <td>72</td>\n",
              "      <td>119</td>\n",
              "      <td>23</td>\n",
              "    </tr>\n",
              "    <tr>\n",
              "      <th>1</th>\n",
              "      <td>0</td>\n",
              "      <td>44</td>\n",
              "      <td>44</td>\n",
              "      <td>1</td>\n",
              "      <td>3</td>\n",
              "      <td>7</td>\n",
              "      <td>1</td>\n",
              "      <td>4</td>\n",
              "      <td>6</td>\n",
              "      <td>1</td>\n",
              "      <td>316</td>\n",
              "      <td>0.000000</td>\n",
              "      <td>12</td>\n",
              "      <td>29</td>\n",
              "      <td>34</td>\n",
              "    </tr>\n",
              "    <tr>\n",
              "      <th>2</th>\n",
              "      <td>0</td>\n",
              "      <td>34</td>\n",
              "      <td>33</td>\n",
              "      <td>3</td>\n",
              "      <td>5</td>\n",
              "      <td>2</td>\n",
              "      <td>7</td>\n",
              "      <td>3</td>\n",
              "      <td>0</td>\n",
              "      <td>1</td>\n",
              "      <td>316</td>\n",
              "      <td>1.000000</td>\n",
              "      <td>72</td>\n",
              "      <td>0</td>\n",
              "      <td>34</td>\n",
              "    </tr>\n",
              "    <tr>\n",
              "      <th>3</th>\n",
              "      <td>7</td>\n",
              "      <td>3</td>\n",
              "      <td>2</td>\n",
              "      <td>3</td>\n",
              "      <td>5</td>\n",
              "      <td>9</td>\n",
              "      <td>8</td>\n",
              "      <td>0</td>\n",
              "      <td>5</td>\n",
              "      <td>1</td>\n",
              "      <td>174</td>\n",
              "      <td>1.000000</td>\n",
              "      <td>112</td>\n",
              "      <td>87</td>\n",
              "      <td>34</td>\n",
              "    </tr>\n",
              "    <tr>\n",
              "      <th>4</th>\n",
              "      <td>0</td>\n",
              "      <td>7</td>\n",
              "      <td>8</td>\n",
              "      <td>7</td>\n",
              "      <td>3</td>\n",
              "      <td>2</td>\n",
              "      <td>7</td>\n",
              "      <td>1</td>\n",
              "      <td>5</td>\n",
              "      <td>1</td>\n",
              "      <td>174</td>\n",
              "      <td>0.000000</td>\n",
              "      <td>112</td>\n",
              "      <td>93</td>\n",
              "      <td>43</td>\n",
              "    </tr>\n",
              "    <tr>\n",
              "      <th>...</th>\n",
              "      <td>...</td>\n",
              "      <td>...</td>\n",
              "      <td>...</td>\n",
              "      <td>...</td>\n",
              "      <td>...</td>\n",
              "      <td>...</td>\n",
              "      <td>...</td>\n",
              "      <td>...</td>\n",
              "      <td>...</td>\n",
              "      <td>...</td>\n",
              "      <td>...</td>\n",
              "      <td>...</td>\n",
              "      <td>...</td>\n",
              "      <td>...</td>\n",
              "      <td>...</td>\n",
              "    </tr>\n",
              "    <tr>\n",
              "      <th>15898</th>\n",
              "      <td>1</td>\n",
              "      <td>22</td>\n",
              "      <td>22</td>\n",
              "      <td>7</td>\n",
              "      <td>3</td>\n",
              "      <td>15</td>\n",
              "      <td>10</td>\n",
              "      <td>0</td>\n",
              "      <td>5</td>\n",
              "      <td>1</td>\n",
              "      <td>174</td>\n",
              "      <td>0.000000</td>\n",
              "      <td>72</td>\n",
              "      <td>29</td>\n",
              "      <td>43</td>\n",
              "    </tr>\n",
              "    <tr>\n",
              "      <th>15899</th>\n",
              "      <td>0</td>\n",
              "      <td>35</td>\n",
              "      <td>30</td>\n",
              "      <td>3</td>\n",
              "      <td>5</td>\n",
              "      <td>1</td>\n",
              "      <td>0</td>\n",
              "      <td>2</td>\n",
              "      <td>3</td>\n",
              "      <td>2</td>\n",
              "      <td>0</td>\n",
              "      <td>2.000000</td>\n",
              "      <td>72</td>\n",
              "      <td>93</td>\n",
              "      <td>34</td>\n",
              "    </tr>\n",
              "    <tr>\n",
              "      <th>15900</th>\n",
              "      <td>0</td>\n",
              "      <td>26</td>\n",
              "      <td>27</td>\n",
              "      <td>9</td>\n",
              "      <td>0</td>\n",
              "      <td>6</td>\n",
              "      <td>4</td>\n",
              "      <td>2</td>\n",
              "      <td>6</td>\n",
              "      <td>1</td>\n",
              "      <td>0</td>\n",
              "      <td>1.000000</td>\n",
              "      <td>72</td>\n",
              "      <td>62</td>\n",
              "      <td>34</td>\n",
              "    </tr>\n",
              "    <tr>\n",
              "      <th>15901</th>\n",
              "      <td>0</td>\n",
              "      <td>21</td>\n",
              "      <td>23</td>\n",
              "      <td>4</td>\n",
              "      <td>1</td>\n",
              "      <td>2</td>\n",
              "      <td>7</td>\n",
              "      <td>1</td>\n",
              "      <td>6</td>\n",
              "      <td>2</td>\n",
              "      <td>249</td>\n",
              "      <td>2.000000</td>\n",
              "      <td>92</td>\n",
              "      <td>62</td>\n",
              "      <td>34</td>\n",
              "    </tr>\n",
              "    <tr>\n",
              "      <th>15902</th>\n",
              "      <td>0</td>\n",
              "      <td>4</td>\n",
              "      <td>4</td>\n",
              "      <td>6</td>\n",
              "      <td>5</td>\n",
              "      <td>4</td>\n",
              "      <td>2</td>\n",
              "      <td>5</td>\n",
              "      <td>6</td>\n",
              "      <td>1</td>\n",
              "      <td>249</td>\n",
              "      <td>1.000000</td>\n",
              "      <td>72</td>\n",
              "      <td>29</td>\n",
              "      <td>34</td>\n",
              "    </tr>\n",
              "  </tbody>\n",
              "</table>\n",
              "<p>15903 rows × 15 columns</p>\n",
              "</div>"
            ],
            "text/plain": [
              "       X_1  X_2  X_3  X_4  X_5  X_6  ...  X_10  X_11      X_12  X_13  X_14  X_15\n",
              "0        0   30   35    7    3    6  ...     1   174  0.972236    72   119    23\n",
              "1        0   44   44    1    3    7  ...     1   316  0.000000    12    29    34\n",
              "2        0   34   33    3    5    2  ...     1   316  1.000000    72     0    34\n",
              "3        7    3    2    3    5    9  ...     1   174  1.000000   112    87    34\n",
              "4        0    7    8    7    3    2  ...     1   174  0.000000   112    93    43\n",
              "...    ...  ...  ...  ...  ...  ...  ...   ...   ...       ...   ...   ...   ...\n",
              "15898    1   22   22    7    3   15  ...     1   174  0.000000    72    29    43\n",
              "15899    0   35   30    3    5    1  ...     2     0  2.000000    72    93    34\n",
              "15900    0   26   27    9    0    6  ...     1     0  1.000000    72    62    34\n",
              "15901    0   21   23    4    1    2  ...     2   249  2.000000    92    62    34\n",
              "15902    0    4    4    6    5    4  ...     1   249  1.000000    72    29    34\n",
              "\n",
              "[15903 rows x 15 columns]"
            ]
          },
          "metadata": {
            "tags": []
          },
          "execution_count": 33
        }
      ]
    },
    {
      "cell_type": "code",
      "metadata": {
        "id": "2P162_h-7V7D",
        "colab_type": "code",
        "colab": {}
      },
      "source": [
        "predict_on = test_data[['X_1',\t'X_2',\t'X_3',\t'X_4',\t'X_5',\t'X_6',\t'X_7',\t'X_8',\t'X_9',\t'X_10',\t'X_11',\t'X_12',\t'X_13',\t'X_14',\t'X_15']]"
      ],
      "execution_count": 34,
      "outputs": []
    },
    {
      "cell_type": "code",
      "metadata": {
        "id": "Ea0ZRokZ7yy7",
        "colab_type": "code",
        "colab": {}
      },
      "source": [
        "z = clf.predict(predict_on)"
      ],
      "execution_count": 35,
      "outputs": []
    },
    {
      "cell_type": "code",
      "metadata": {
        "id": "oPe5VJ0z78Gi",
        "colab_type": "code",
        "colab": {
          "base_uri": "https://localhost:8080/",
          "height": 47
        },
        "outputId": "7e2c3763-1e08-4d75-96d6-49441a058be7"
      },
      "source": [
        "submit = pd.DataFrame(columns=['INCIDENT_ID', 'MULTIPLE_OFFENSE'])\n",
        "submit.head()"
      ],
      "execution_count": 36,
      "outputs": [
        {
          "output_type": "execute_result",
          "data": {
            "text/html": [
              "<div>\n",
              "<style scoped>\n",
              "    .dataframe tbody tr th:only-of-type {\n",
              "        vertical-align: middle;\n",
              "    }\n",
              "\n",
              "    .dataframe tbody tr th {\n",
              "        vertical-align: top;\n",
              "    }\n",
              "\n",
              "    .dataframe thead th {\n",
              "        text-align: right;\n",
              "    }\n",
              "</style>\n",
              "<table border=\"1\" class=\"dataframe\">\n",
              "  <thead>\n",
              "    <tr style=\"text-align: right;\">\n",
              "      <th></th>\n",
              "      <th>INCIDENT_ID</th>\n",
              "      <th>MULTIPLE_OFFENSE</th>\n",
              "    </tr>\n",
              "  </thead>\n",
              "  <tbody>\n",
              "  </tbody>\n",
              "</table>\n",
              "</div>"
            ],
            "text/plain": [
              "Empty DataFrame\n",
              "Columns: [INCIDENT_ID, MULTIPLE_OFFENSE]\n",
              "Index: []"
            ]
          },
          "metadata": {
            "tags": []
          },
          "execution_count": 36
        }
      ]
    },
    {
      "cell_type": "code",
      "metadata": {
        "id": "8DhsG0zy8bH4",
        "colab_type": "code",
        "colab": {}
      },
      "source": [
        "df_test = pd.read_csv('Test.csv')"
      ],
      "execution_count": 37,
      "outputs": []
    },
    {
      "cell_type": "code",
      "metadata": {
        "id": "MZfi0Bvj8WKC",
        "colab_type": "code",
        "colab": {
          "base_uri": "https://localhost:8080/",
          "height": 191
        },
        "outputId": "31e457b0-81d7-4260-9606-b754ee7dae5b"
      },
      "source": [
        "submit['INCIDENT_ID'] = df_test['INCIDENT_ID']\n",
        "submit.head()"
      ],
      "execution_count": 39,
      "outputs": [
        {
          "output_type": "execute_result",
          "data": {
            "text/html": [
              "<div>\n",
              "<style scoped>\n",
              "    .dataframe tbody tr th:only-of-type {\n",
              "        vertical-align: middle;\n",
              "    }\n",
              "\n",
              "    .dataframe tbody tr th {\n",
              "        vertical-align: top;\n",
              "    }\n",
              "\n",
              "    .dataframe thead th {\n",
              "        text-align: right;\n",
              "    }\n",
              "</style>\n",
              "<table border=\"1\" class=\"dataframe\">\n",
              "  <thead>\n",
              "    <tr style=\"text-align: right;\">\n",
              "      <th></th>\n",
              "      <th>INCIDENT_ID</th>\n",
              "      <th>MULTIPLE_OFFENSE</th>\n",
              "    </tr>\n",
              "  </thead>\n",
              "  <tbody>\n",
              "    <tr>\n",
              "      <th>0</th>\n",
              "      <td>CR_195453</td>\n",
              "      <td>NaN</td>\n",
              "    </tr>\n",
              "    <tr>\n",
              "      <th>1</th>\n",
              "      <td>CR_103520</td>\n",
              "      <td>NaN</td>\n",
              "    </tr>\n",
              "    <tr>\n",
              "      <th>2</th>\n",
              "      <td>CR_196089</td>\n",
              "      <td>NaN</td>\n",
              "    </tr>\n",
              "    <tr>\n",
              "      <th>3</th>\n",
              "      <td>CR_112195</td>\n",
              "      <td>NaN</td>\n",
              "    </tr>\n",
              "    <tr>\n",
              "      <th>4</th>\n",
              "      <td>CR_149832</td>\n",
              "      <td>NaN</td>\n",
              "    </tr>\n",
              "  </tbody>\n",
              "</table>\n",
              "</div>"
            ],
            "text/plain": [
              "  INCIDENT_ID MULTIPLE_OFFENSE\n",
              "0   CR_195453              NaN\n",
              "1   CR_103520              NaN\n",
              "2   CR_196089              NaN\n",
              "3   CR_112195              NaN\n",
              "4   CR_149832              NaN"
            ]
          },
          "metadata": {
            "tags": []
          },
          "execution_count": 39
        }
      ]
    },
    {
      "cell_type": "code",
      "metadata": {
        "id": "bEC7H-Pi8qPf",
        "colab_type": "code",
        "colab": {
          "base_uri": "https://localhost:8080/",
          "height": 191
        },
        "outputId": "19bb8f29-73c0-4082-abc0-314ca04b277f"
      },
      "source": [
        "submit['MULTIPLE_OFFENSE'] = z\n",
        "submit.head()"
      ],
      "execution_count": 40,
      "outputs": [
        {
          "output_type": "execute_result",
          "data": {
            "text/html": [
              "<div>\n",
              "<style scoped>\n",
              "    .dataframe tbody tr th:only-of-type {\n",
              "        vertical-align: middle;\n",
              "    }\n",
              "\n",
              "    .dataframe tbody tr th {\n",
              "        vertical-align: top;\n",
              "    }\n",
              "\n",
              "    .dataframe thead th {\n",
              "        text-align: right;\n",
              "    }\n",
              "</style>\n",
              "<table border=\"1\" class=\"dataframe\">\n",
              "  <thead>\n",
              "    <tr style=\"text-align: right;\">\n",
              "      <th></th>\n",
              "      <th>INCIDENT_ID</th>\n",
              "      <th>MULTIPLE_OFFENSE</th>\n",
              "    </tr>\n",
              "  </thead>\n",
              "  <tbody>\n",
              "    <tr>\n",
              "      <th>0</th>\n",
              "      <td>CR_195453</td>\n",
              "      <td>1</td>\n",
              "    </tr>\n",
              "    <tr>\n",
              "      <th>1</th>\n",
              "      <td>CR_103520</td>\n",
              "      <td>0</td>\n",
              "    </tr>\n",
              "    <tr>\n",
              "      <th>2</th>\n",
              "      <td>CR_196089</td>\n",
              "      <td>1</td>\n",
              "    </tr>\n",
              "    <tr>\n",
              "      <th>3</th>\n",
              "      <td>CR_112195</td>\n",
              "      <td>1</td>\n",
              "    </tr>\n",
              "    <tr>\n",
              "      <th>4</th>\n",
              "      <td>CR_149832</td>\n",
              "      <td>0</td>\n",
              "    </tr>\n",
              "  </tbody>\n",
              "</table>\n",
              "</div>"
            ],
            "text/plain": [
              "  INCIDENT_ID  MULTIPLE_OFFENSE\n",
              "0   CR_195453                 1\n",
              "1   CR_103520                 0\n",
              "2   CR_196089                 1\n",
              "3   CR_112195                 1\n",
              "4   CR_149832                 0"
            ]
          },
          "metadata": {
            "tags": []
          },
          "execution_count": 40
        }
      ]
    },
    {
      "cell_type": "code",
      "metadata": {
        "id": "_S9H_dE68zDH",
        "colab_type": "code",
        "colab": {}
      },
      "source": [
        "submit.to_csv('submission(waqqas).csv', index=False)"
      ],
      "execution_count": 41,
      "outputs": []
    },
    {
      "cell_type": "code",
      "metadata": {
        "id": "iREqiCmE-BHs",
        "colab_type": "code",
        "colab": {
          "base_uri": "https://localhost:8080/",
          "height": 212
        },
        "outputId": "a84b8107-ea9c-4911-9ebe-b66e5e3d428b"
      },
      "source": [
        "from sklearn.naive_bayes import GaussianNB\n",
        "gnb=GaussianNB()\n",
        "gnb.fit(X_train,y_train)\n",
        "pred_gnb = gnb.predict(X_test)\n",
        "print(confusion_matrix(y_test, pred_gnb))\n",
        "print(classification_report(y_test, pred_gnb))\n",
        "print(accuracy_score(y_test, pred_gnb))"
      ],
      "execution_count": 42,
      "outputs": [
        {
          "output_type": "stream",
          "text": [
            "[[  61  261]\n",
            " [ 114 6721]]\n",
            "              precision    recall  f1-score   support\n",
            "\n",
            "           0       0.35      0.19      0.25       322\n",
            "           1       0.96      0.98      0.97      6835\n",
            "\n",
            "    accuracy                           0.95      7157\n",
            "   macro avg       0.66      0.59      0.61      7157\n",
            "weighted avg       0.93      0.95      0.94      7157\n",
            "\n",
            "0.9476037445857203\n"
          ],
          "name": "stdout"
        }
      ]
    },
    {
      "cell_type": "code",
      "metadata": {
        "id": "kIbEKSZm-Q7a",
        "colab_type": "code",
        "colab": {}
      },
      "source": [
        "n = clf.predict(predict_on)"
      ],
      "execution_count": 43,
      "outputs": []
    },
    {
      "cell_type": "code",
      "metadata": {
        "id": "VaN99uAY-eLa",
        "colab_type": "code",
        "colab": {
          "base_uri": "https://localhost:8080/",
          "height": 115
        },
        "outputId": "9a45ceb0-858b-41d6-a071-6fe57e187fd5"
      },
      "source": [
        "submit = pd.DataFrame(columns=['INCIDENT_ID', 'MULTIPLE_OFFENSE'])\n",
        "submit.head()\n",
        "\n",
        "submit['INCIDENT_ID'] = df_test['INCIDENT_ID']\n",
        "submit.head()\n",
        "\n",
        "submit['MULTIPLE_OFFENSE'] = z\n",
        "print(submit.head())\n",
        "\n",
        "submit.to_csv('submission(NB).csv', index=False)"
      ],
      "execution_count": 46,
      "outputs": [
        {
          "output_type": "stream",
          "text": [
            "  INCIDENT_ID  MULTIPLE_OFFENSE\n",
            "0   CR_195453                 1\n",
            "1   CR_103520                 0\n",
            "2   CR_196089                 1\n",
            "3   CR_112195                 1\n",
            "4   CR_149832                 0\n"
          ],
          "name": "stdout"
        }
      ]
    },
    {
      "cell_type": "code",
      "metadata": {
        "id": "RoAZ9kyf-iJS",
        "colab_type": "code",
        "colab": {
          "base_uri": "https://localhost:8080/",
          "height": 147
        },
        "outputId": "0aa9700b-4061-496c-8e08-6a7d33561b1a"
      },
      "source": [
        "from sklearn.ensemble import RandomForestClassifier\n",
        "rfc = RandomForestClassifier(max_depth=6, max_features=7)\n",
        "rfc.fit(X_train, y_train)"
      ],
      "execution_count": 47,
      "outputs": [
        {
          "output_type": "execute_result",
          "data": {
            "text/plain": [
              "RandomForestClassifier(bootstrap=True, ccp_alpha=0.0, class_weight=None,\n",
              "                       criterion='gini', max_depth=6, max_features=7,\n",
              "                       max_leaf_nodes=None, max_samples=None,\n",
              "                       min_impurity_decrease=0.0, min_impurity_split=None,\n",
              "                       min_samples_leaf=1, min_samples_split=2,\n",
              "                       min_weight_fraction_leaf=0.0, n_estimators=100,\n",
              "                       n_jobs=None, oob_score=False, random_state=None,\n",
              "                       verbose=0, warm_start=False)"
            ]
          },
          "metadata": {
            "tags": []
          },
          "execution_count": 47
        }
      ]
    },
    {
      "cell_type": "code",
      "metadata": {
        "id": "SydYGPfD_XjA",
        "colab_type": "code",
        "colab": {
          "base_uri": "https://localhost:8080/",
          "height": 212
        },
        "outputId": "fc8e384a-980f-47cd-b072-5a4dc8b72ecd"
      },
      "source": [
        "pred_rfc = rfc.predict(X_test)\n",
        "print(confusion_matrix(y_test, pred_rfc))\n",
        "print(classification_report(y_test, pred_rfc))\n",
        "print(accuracy_score(y_test, pred_rfc))"
      ],
      "execution_count": 48,
      "outputs": [
        {
          "output_type": "stream",
          "text": [
            "[[ 243   79]\n",
            " [   6 6829]]\n",
            "              precision    recall  f1-score   support\n",
            "\n",
            "           0       0.98      0.75      0.85       322\n",
            "           1       0.99      1.00      0.99      6835\n",
            "\n",
            "    accuracy                           0.99      7157\n",
            "   macro avg       0.98      0.88      0.92      7157\n",
            "weighted avg       0.99      0.99      0.99      7157\n",
            "\n",
            "0.9881235154394299\n"
          ],
          "name": "stdout"
        }
      ]
    },
    {
      "cell_type": "code",
      "metadata": {
        "id": "dVMlc8Kd_Y94",
        "colab_type": "code",
        "colab": {
          "base_uri": "https://localhost:8080/",
          "height": 196
        },
        "outputId": "5b43d61e-3826-4f02-fc57-bf6a29ab9feb"
      },
      "source": [
        "submit = pd.DataFrame(columns=['INCIDENT_ID', 'MULTIPLE_OFFENSE'])\n",
        "submit.head()\n",
        "\n",
        "submit['INCIDENT_ID'] = df_test['INCIDENT_ID']\n",
        "submit.head()\n",
        "\n",
        "submit['MULTIPLE_OFFENSE'] = z\n",
        "print(submit.head(10))\n",
        "\n",
        "submit.to_csv('submission(RF).csv', index=False)"
      ],
      "execution_count": 50,
      "outputs": [
        {
          "output_type": "stream",
          "text": [
            "  INCIDENT_ID  MULTIPLE_OFFENSE\n",
            "0   CR_195453                 1\n",
            "1   CR_103520                 0\n",
            "2   CR_196089                 1\n",
            "3   CR_112195                 1\n",
            "4   CR_149832                 0\n",
            "5    CR_81654                 0\n",
            "6   CR_139009                 0\n",
            "7     CR_6108                 1\n",
            "8    CR_62283                 0\n",
            "9     CR_5710                 1\n"
          ],
          "name": "stdout"
        }
      ]
    }
  ]
}