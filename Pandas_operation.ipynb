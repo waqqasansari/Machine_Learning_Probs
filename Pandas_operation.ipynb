{
  "nbformat": 4,
  "nbformat_minor": 0,
  "metadata": {
    "colab": {
      "name": "Pandas_operation.ipynb",
      "provenance": [],
      "collapsed_sections": [],
      "authorship_tag": "ABX9TyM/xuJKiRuqjD/W9OI4b6j+",
      "include_colab_link": true
    },
    "kernelspec": {
      "name": "python3",
      "display_name": "Python 3"
    }
  },
  "cells": [
    {
      "cell_type": "markdown",
      "metadata": {
        "id": "view-in-github",
        "colab_type": "text"
      },
      "source": [
        "<a href=\"https://colab.research.google.com/github/waqqasansari/Machine_Learning_Probs/blob/master/Pandas_operation.ipynb\" target=\"_parent\"><img src=\"https://colab.research.google.com/assets/colab-badge.svg\" alt=\"Open In Colab\"/></a>"
      ]
    },
    {
      "cell_type": "markdown",
      "metadata": {
        "id": "6g7GdBW3nRYp",
        "colab_type": "text"
      },
      "source": [
        "highly based on this article :-https://www.geeksforgeeks.org/python-pandas-merging-joining-and-concatenating/"
      ]
    },
    {
      "cell_type": "code",
      "metadata": {
        "id": "VfwIDp7eJ8Y7",
        "colab_type": "code",
        "colab": {}
      },
      "source": [
        "#import essential libraries\n",
        "import pandas as pd\n",
        "import numpy as np"
      ],
      "execution_count": 1,
      "outputs": []
    },
    {
      "cell_type": "code",
      "metadata": {
        "id": "k_2QXIT8KhPa",
        "colab_type": "code",
        "colab": {
          "base_uri": "https://localhost:8080/",
          "height": 196
        },
        "outputId": "616a701b-f97a-4f79-8fcc-8db1385d66f7"
      },
      "source": [
        "#creating a data dictionary containing of employee data\n",
        "\n",
        "data1 = {'Name':['waqqas', 'raj', 'huma', 'rekha'],\n",
        "         'Age':['23', '34', '21', '25'],\n",
        "         'City':['Rudauli', 'kanpur', 'lucknow', 'goa'],\n",
        "         'Qualification':['Msc', 'MA', 'MCA', 'Phd']}\n",
        "\n",
        "#creating a data dictionary containing of employee data\n",
        "data2 = {'Name':['Abhi', 'Ayushi', 'Dhiraj', 'Hitesh'], \n",
        "        'Age':[17, 14, 12, 52], \n",
        "        'City':['Nagpur', 'Kanpur', 'Allahabad', 'Kannuaj'], \n",
        "        'Qualification':['Btech', 'B.A', 'Bcom', 'B.hons']}\n",
        "\n",
        "#Convert dictionary in to Dataframe\n",
        "df1 = pd.DataFrame(data1, index=[0,1,2,3])\n",
        "df2 = pd.DataFrame(data2, index=[4,5,6,7])\n",
        "\n",
        "print(df1, \"\\n\\n\", df2) "
      ],
      "execution_count": 5,
      "outputs": [
        {
          "output_type": "stream",
          "text": [
            "     Name Age     City Qualification\n",
            "0  waqqas  23  Rudauli           Msc\n",
            "1     raj  34   kanpur            MA\n",
            "2    huma  21  lucknow           MCA\n",
            "3   rekha  25      goa           Phd \n",
            "\n",
            "      Name  Age       City Qualification\n",
            "4    Abhi   17     Nagpur         Btech\n",
            "5  Ayushi   14     Kanpur           B.A\n",
            "6  Dhiraj   12  Allahabad          Bcom\n",
            "7  Hitesh   52    Kannuaj        B.hons\n"
          ],
          "name": "stdout"
        }
      ]
    },
    {
      "cell_type": "markdown",
      "metadata": {
        "id": "Vzpw-QmpNJIH",
        "colab_type": "text"
      },
      "source": [
        "##Apply .concat on both dataframe"
      ]
    },
    {
      "cell_type": "code",
      "metadata": {
        "id": "_E42n7ksNGDx",
        "colab_type": "code",
        "colab": {
          "base_uri": "https://localhost:8080/",
          "height": 277
        },
        "outputId": "9ee212e8-d2e9-4188-964a-7eafd44108ba"
      },
      "source": [
        "oc1 = pd.concat([df1, df2])\n",
        "oc1"
      ],
      "execution_count": 6,
      "outputs": [
        {
          "output_type": "execute_result",
          "data": {
            "text/html": [
              "<div>\n",
              "<style scoped>\n",
              "    .dataframe tbody tr th:only-of-type {\n",
              "        vertical-align: middle;\n",
              "    }\n",
              "\n",
              "    .dataframe tbody tr th {\n",
              "        vertical-align: top;\n",
              "    }\n",
              "\n",
              "    .dataframe thead th {\n",
              "        text-align: right;\n",
              "    }\n",
              "</style>\n",
              "<table border=\"1\" class=\"dataframe\">\n",
              "  <thead>\n",
              "    <tr style=\"text-align: right;\">\n",
              "      <th></th>\n",
              "      <th>Name</th>\n",
              "      <th>Age</th>\n",
              "      <th>City</th>\n",
              "      <th>Qualification</th>\n",
              "    </tr>\n",
              "  </thead>\n",
              "  <tbody>\n",
              "    <tr>\n",
              "      <th>0</th>\n",
              "      <td>waqqas</td>\n",
              "      <td>23</td>\n",
              "      <td>Rudauli</td>\n",
              "      <td>Msc</td>\n",
              "    </tr>\n",
              "    <tr>\n",
              "      <th>1</th>\n",
              "      <td>raj</td>\n",
              "      <td>34</td>\n",
              "      <td>kanpur</td>\n",
              "      <td>MA</td>\n",
              "    </tr>\n",
              "    <tr>\n",
              "      <th>2</th>\n",
              "      <td>huma</td>\n",
              "      <td>21</td>\n",
              "      <td>lucknow</td>\n",
              "      <td>MCA</td>\n",
              "    </tr>\n",
              "    <tr>\n",
              "      <th>3</th>\n",
              "      <td>rekha</td>\n",
              "      <td>25</td>\n",
              "      <td>goa</td>\n",
              "      <td>Phd</td>\n",
              "    </tr>\n",
              "    <tr>\n",
              "      <th>4</th>\n",
              "      <td>Abhi</td>\n",
              "      <td>17</td>\n",
              "      <td>Nagpur</td>\n",
              "      <td>Btech</td>\n",
              "    </tr>\n",
              "    <tr>\n",
              "      <th>5</th>\n",
              "      <td>Ayushi</td>\n",
              "      <td>14</td>\n",
              "      <td>Kanpur</td>\n",
              "      <td>B.A</td>\n",
              "    </tr>\n",
              "    <tr>\n",
              "      <th>6</th>\n",
              "      <td>Dhiraj</td>\n",
              "      <td>12</td>\n",
              "      <td>Allahabad</td>\n",
              "      <td>Bcom</td>\n",
              "    </tr>\n",
              "    <tr>\n",
              "      <th>7</th>\n",
              "      <td>Hitesh</td>\n",
              "      <td>52</td>\n",
              "      <td>Kannuaj</td>\n",
              "      <td>B.hons</td>\n",
              "    </tr>\n",
              "  </tbody>\n",
              "</table>\n",
              "</div>"
            ],
            "text/plain": [
              "     Name Age       City Qualification\n",
              "0  waqqas  23    Rudauli           Msc\n",
              "1     raj  34     kanpur            MA\n",
              "2    huma  21    lucknow           MCA\n",
              "3   rekha  25        goa           Phd\n",
              "4    Abhi  17     Nagpur         Btech\n",
              "5  Ayushi  14     Kanpur           B.A\n",
              "6  Dhiraj  12  Allahabad          Bcom\n",
              "7  Hitesh  52    Kannuaj        B.hons"
            ]
          },
          "metadata": {
            "tags": []
          },
          "execution_count": 6
        }
      ]
    },
    {
      "cell_type": "markdown",
      "metadata": {
        "id": "Du_QacicNsqF",
        "colab_type": "text"
      },
      "source": [
        "##Concatenating DataFrame by setting logic on axes"
      ]
    },
    {
      "cell_type": "code",
      "metadata": {
        "id": "-qNExsISNlu2",
        "colab_type": "code",
        "colab": {
          "base_uri": "https://localhost:8080/",
          "height": 196
        },
        "outputId": "ae43fcb8-0686-42c9-fe01-d0386ac9e077"
      },
      "source": [
        "#creating a data dictionary containing of employee data\n",
        "data1 = {'Name':['waqqas', 'raj', 'huma', 'rekha'],\n",
        "         'Age':['23', '34', '21', '25'],\n",
        "         'City':['Rudauli', 'kanpur', 'lucknow', 'goa'],\n",
        "         'Qualification':['Msc', 'MA', 'MCA', 'Phd'],\n",
        "         'Mobile_no.':['453453', '2345','34523', '2345']}\n",
        "\n",
        "#creating a data dictionary containing of employee data\n",
        "data2 = {'Name':['waqqas', 'raj', 'Dhiraj', 'Hitesh'], \n",
        "        'Age':['23', '34', '12', '52'], \n",
        "        'City':['Rudauli', 'kanpur', 'Allahabad', 'Kannuaj'], \n",
        "        'Qualification':['Msc', 'MA', 'Bcom', 'B.hons'],\n",
        "         'salary':['20000','30000','40000','12000']}\n",
        "\n",
        "\n",
        "#Convert dictionary in to Dataframe\n",
        "df1 = pd.DataFrame(data1, index=[0,1,2,3])\n",
        "df2 = pd.DataFrame(data2, index=[0,1,6,7])\n",
        "\n",
        "print(df1, \"\\n\\n\", df2) "
      ],
      "execution_count": 15,
      "outputs": [
        {
          "output_type": "stream",
          "text": [
            "     Name Age     City Qualification Mobile_no.\n",
            "0  waqqas  23  Rudauli           Msc     453453\n",
            "1     raj  34   kanpur            MA       2345\n",
            "2    huma  21  lucknow           MCA      34523\n",
            "3   rekha  25      goa           Phd       2345 \n",
            "\n",
            "      Name Age       City Qualification salary\n",
            "0  waqqas  23    Rudauli           Msc  20000\n",
            "1     raj  34     kanpur            MA  30000\n",
            "6  Dhiraj  12  Allahabad          Bcom  40000\n",
            "7  Hitesh  52    Kannuaj        B.hons  12000\n"
          ],
          "name": "stdout"
        }
      ]
    },
    {
      "cell_type": "code",
      "metadata": {
        "id": "VxcK7cAqO1T7",
        "colab_type": "code",
        "colab": {
          "base_uri": "https://localhost:8080/",
          "height": 105
        },
        "outputId": "dce2ab34-527c-4cf6-cc02-73ddfb35e916"
      },
      "source": [
        "# applying concat with axes\n",
        "# join = 'inner', Taking the intersection\n",
        "oc1 = pd.concat([df1, df2], axis=1, join='inner')\n",
        "oc1"
      ],
      "execution_count": 16,
      "outputs": [
        {
          "output_type": "execute_result",
          "data": {
            "text/html": [
              "<div>\n",
              "<style scoped>\n",
              "    .dataframe tbody tr th:only-of-type {\n",
              "        vertical-align: middle;\n",
              "    }\n",
              "\n",
              "    .dataframe tbody tr th {\n",
              "        vertical-align: top;\n",
              "    }\n",
              "\n",
              "    .dataframe thead th {\n",
              "        text-align: right;\n",
              "    }\n",
              "</style>\n",
              "<table border=\"1\" class=\"dataframe\">\n",
              "  <thead>\n",
              "    <tr style=\"text-align: right;\">\n",
              "      <th></th>\n",
              "      <th>Name</th>\n",
              "      <th>Age</th>\n",
              "      <th>City</th>\n",
              "      <th>Qualification</th>\n",
              "      <th>Mobile_no.</th>\n",
              "      <th>Name</th>\n",
              "      <th>Age</th>\n",
              "      <th>City</th>\n",
              "      <th>Qualification</th>\n",
              "      <th>salary</th>\n",
              "    </tr>\n",
              "  </thead>\n",
              "  <tbody>\n",
              "    <tr>\n",
              "      <th>0</th>\n",
              "      <td>waqqas</td>\n",
              "      <td>23</td>\n",
              "      <td>Rudauli</td>\n",
              "      <td>Msc</td>\n",
              "      <td>453453</td>\n",
              "      <td>waqqas</td>\n",
              "      <td>23</td>\n",
              "      <td>Rudauli</td>\n",
              "      <td>Msc</td>\n",
              "      <td>20000</td>\n",
              "    </tr>\n",
              "    <tr>\n",
              "      <th>1</th>\n",
              "      <td>raj</td>\n",
              "      <td>34</td>\n",
              "      <td>kanpur</td>\n",
              "      <td>MA</td>\n",
              "      <td>2345</td>\n",
              "      <td>raj</td>\n",
              "      <td>34</td>\n",
              "      <td>kanpur</td>\n",
              "      <td>MA</td>\n",
              "      <td>30000</td>\n",
              "    </tr>\n",
              "  </tbody>\n",
              "</table>\n",
              "</div>"
            ],
            "text/plain": [
              "     Name Age     City Qualification  ... Age     City Qualification salary\n",
              "0  waqqas  23  Rudauli           Msc  ...  23  Rudauli           Msc  20000\n",
              "1     raj  34   kanpur            MA  ...  34   kanpur            MA  30000\n",
              "\n",
              "[2 rows x 10 columns]"
            ]
          },
          "metadata": {
            "tags": []
          },
          "execution_count": 16
        }
      ]
    },
    {
      "cell_type": "code",
      "metadata": {
        "id": "w02_-k0FRXBb",
        "colab_type": "code",
        "colab": {
          "base_uri": "https://localhost:8080/",
          "height": 220
        },
        "outputId": "5602507a-b282-4530-f776-37f926753223"
      },
      "source": [
        "# applying concat with axes\n",
        "# join = 'outer', Taking the union of them\n",
        "oc1 = pd.concat([df1, df2], axis=1, join='outer')\n",
        "oc1"
      ],
      "execution_count": 17,
      "outputs": [
        {
          "output_type": "execute_result",
          "data": {
            "text/html": [
              "<div>\n",
              "<style scoped>\n",
              "    .dataframe tbody tr th:only-of-type {\n",
              "        vertical-align: middle;\n",
              "    }\n",
              "\n",
              "    .dataframe tbody tr th {\n",
              "        vertical-align: top;\n",
              "    }\n",
              "\n",
              "    .dataframe thead th {\n",
              "        text-align: right;\n",
              "    }\n",
              "</style>\n",
              "<table border=\"1\" class=\"dataframe\">\n",
              "  <thead>\n",
              "    <tr style=\"text-align: right;\">\n",
              "      <th></th>\n",
              "      <th>Name</th>\n",
              "      <th>Age</th>\n",
              "      <th>City</th>\n",
              "      <th>Qualification</th>\n",
              "      <th>Mobile_no.</th>\n",
              "      <th>Name</th>\n",
              "      <th>Age</th>\n",
              "      <th>City</th>\n",
              "      <th>Qualification</th>\n",
              "      <th>salary</th>\n",
              "    </tr>\n",
              "  </thead>\n",
              "  <tbody>\n",
              "    <tr>\n",
              "      <th>0</th>\n",
              "      <td>waqqas</td>\n",
              "      <td>23</td>\n",
              "      <td>Rudauli</td>\n",
              "      <td>Msc</td>\n",
              "      <td>453453</td>\n",
              "      <td>waqqas</td>\n",
              "      <td>23</td>\n",
              "      <td>Rudauli</td>\n",
              "      <td>Msc</td>\n",
              "      <td>20000</td>\n",
              "    </tr>\n",
              "    <tr>\n",
              "      <th>1</th>\n",
              "      <td>raj</td>\n",
              "      <td>34</td>\n",
              "      <td>kanpur</td>\n",
              "      <td>MA</td>\n",
              "      <td>2345</td>\n",
              "      <td>raj</td>\n",
              "      <td>34</td>\n",
              "      <td>kanpur</td>\n",
              "      <td>MA</td>\n",
              "      <td>30000</td>\n",
              "    </tr>\n",
              "    <tr>\n",
              "      <th>2</th>\n",
              "      <td>huma</td>\n",
              "      <td>21</td>\n",
              "      <td>lucknow</td>\n",
              "      <td>MCA</td>\n",
              "      <td>34523</td>\n",
              "      <td>NaN</td>\n",
              "      <td>NaN</td>\n",
              "      <td>NaN</td>\n",
              "      <td>NaN</td>\n",
              "      <td>NaN</td>\n",
              "    </tr>\n",
              "    <tr>\n",
              "      <th>3</th>\n",
              "      <td>rekha</td>\n",
              "      <td>25</td>\n",
              "      <td>goa</td>\n",
              "      <td>Phd</td>\n",
              "      <td>2345</td>\n",
              "      <td>NaN</td>\n",
              "      <td>NaN</td>\n",
              "      <td>NaN</td>\n",
              "      <td>NaN</td>\n",
              "      <td>NaN</td>\n",
              "    </tr>\n",
              "    <tr>\n",
              "      <th>6</th>\n",
              "      <td>NaN</td>\n",
              "      <td>NaN</td>\n",
              "      <td>NaN</td>\n",
              "      <td>NaN</td>\n",
              "      <td>NaN</td>\n",
              "      <td>Dhiraj</td>\n",
              "      <td>12</td>\n",
              "      <td>Allahabad</td>\n",
              "      <td>Bcom</td>\n",
              "      <td>40000</td>\n",
              "    </tr>\n",
              "    <tr>\n",
              "      <th>7</th>\n",
              "      <td>NaN</td>\n",
              "      <td>NaN</td>\n",
              "      <td>NaN</td>\n",
              "      <td>NaN</td>\n",
              "      <td>NaN</td>\n",
              "      <td>Hitesh</td>\n",
              "      <td>52</td>\n",
              "      <td>Kannuaj</td>\n",
              "      <td>B.hons</td>\n",
              "      <td>12000</td>\n",
              "    </tr>\n",
              "  </tbody>\n",
              "</table>\n",
              "</div>"
            ],
            "text/plain": [
              "     Name  Age     City Qualification  ...  Age       City Qualification salary\n",
              "0  waqqas   23  Rudauli           Msc  ...   23    Rudauli           Msc  20000\n",
              "1     raj   34   kanpur            MA  ...   34     kanpur            MA  30000\n",
              "2    huma   21  lucknow           MCA  ...  NaN        NaN           NaN    NaN\n",
              "3   rekha   25      goa           Phd  ...  NaN        NaN           NaN    NaN\n",
              "6     NaN  NaN      NaN           NaN  ...   12  Allahabad          Bcom  40000\n",
              "7     NaN  NaN      NaN           NaN  ...   52    Kannuaj        B.hons  12000\n",
              "\n",
              "[6 rows x 10 columns]"
            ]
          },
          "metadata": {
            "tags": []
          },
          "execution_count": 17
        }
      ]
    },
    {
      "cell_type": "code",
      "metadata": {
        "id": "Lo2OtAJdR8AJ",
        "colab_type": "code",
        "colab": {
          "base_uri": "https://localhost:8080/",
          "height": 220
        },
        "outputId": "7105de7b-cfc8-414a-af39-828a20bdaab2"
      },
      "source": [
        "oc2 = pd.concat([df1, df2], axis=1)\n",
        "oc2"
      ],
      "execution_count": 24,
      "outputs": [
        {
          "output_type": "execute_result",
          "data": {
            "text/html": [
              "<div>\n",
              "<style scoped>\n",
              "    .dataframe tbody tr th:only-of-type {\n",
              "        vertical-align: middle;\n",
              "    }\n",
              "\n",
              "    .dataframe tbody tr th {\n",
              "        vertical-align: top;\n",
              "    }\n",
              "\n",
              "    .dataframe thead th {\n",
              "        text-align: right;\n",
              "    }\n",
              "</style>\n",
              "<table border=\"1\" class=\"dataframe\">\n",
              "  <thead>\n",
              "    <tr style=\"text-align: right;\">\n",
              "      <th></th>\n",
              "      <th>Name</th>\n",
              "      <th>Age</th>\n",
              "      <th>City</th>\n",
              "      <th>Qualification</th>\n",
              "      <th>Mobile_no.</th>\n",
              "      <th>Name</th>\n",
              "      <th>Age</th>\n",
              "      <th>City</th>\n",
              "      <th>Qualification</th>\n",
              "      <th>salary</th>\n",
              "    </tr>\n",
              "  </thead>\n",
              "  <tbody>\n",
              "    <tr>\n",
              "      <th>0</th>\n",
              "      <td>waqqas</td>\n",
              "      <td>23</td>\n",
              "      <td>Rudauli</td>\n",
              "      <td>Msc</td>\n",
              "      <td>453453</td>\n",
              "      <td>waqqas</td>\n",
              "      <td>23</td>\n",
              "      <td>Rudauli</td>\n",
              "      <td>Msc</td>\n",
              "      <td>20000</td>\n",
              "    </tr>\n",
              "    <tr>\n",
              "      <th>1</th>\n",
              "      <td>raj</td>\n",
              "      <td>34</td>\n",
              "      <td>kanpur</td>\n",
              "      <td>MA</td>\n",
              "      <td>2345</td>\n",
              "      <td>raj</td>\n",
              "      <td>34</td>\n",
              "      <td>kanpur</td>\n",
              "      <td>MA</td>\n",
              "      <td>30000</td>\n",
              "    </tr>\n",
              "    <tr>\n",
              "      <th>2</th>\n",
              "      <td>huma</td>\n",
              "      <td>21</td>\n",
              "      <td>lucknow</td>\n",
              "      <td>MCA</td>\n",
              "      <td>34523</td>\n",
              "      <td>NaN</td>\n",
              "      <td>NaN</td>\n",
              "      <td>NaN</td>\n",
              "      <td>NaN</td>\n",
              "      <td>NaN</td>\n",
              "    </tr>\n",
              "    <tr>\n",
              "      <th>3</th>\n",
              "      <td>rekha</td>\n",
              "      <td>25</td>\n",
              "      <td>goa</td>\n",
              "      <td>Phd</td>\n",
              "      <td>2345</td>\n",
              "      <td>NaN</td>\n",
              "      <td>NaN</td>\n",
              "      <td>NaN</td>\n",
              "      <td>NaN</td>\n",
              "      <td>NaN</td>\n",
              "    </tr>\n",
              "    <tr>\n",
              "      <th>6</th>\n",
              "      <td>NaN</td>\n",
              "      <td>NaN</td>\n",
              "      <td>NaN</td>\n",
              "      <td>NaN</td>\n",
              "      <td>NaN</td>\n",
              "      <td>Dhiraj</td>\n",
              "      <td>12</td>\n",
              "      <td>Allahabad</td>\n",
              "      <td>Bcom</td>\n",
              "      <td>40000</td>\n",
              "    </tr>\n",
              "    <tr>\n",
              "      <th>7</th>\n",
              "      <td>NaN</td>\n",
              "      <td>NaN</td>\n",
              "      <td>NaN</td>\n",
              "      <td>NaN</td>\n",
              "      <td>NaN</td>\n",
              "      <td>Hitesh</td>\n",
              "      <td>52</td>\n",
              "      <td>Kannuaj</td>\n",
              "      <td>B.hons</td>\n",
              "      <td>12000</td>\n",
              "    </tr>\n",
              "  </tbody>\n",
              "</table>\n",
              "</div>"
            ],
            "text/plain": [
              "     Name  Age     City Qualification  ...  Age       City Qualification salary\n",
              "0  waqqas   23  Rudauli           Msc  ...   23    Rudauli           Msc  20000\n",
              "1     raj   34   kanpur            MA  ...   34     kanpur            MA  30000\n",
              "2    huma   21  lucknow           MCA  ...  NaN        NaN           NaN    NaN\n",
              "3   rekha   25      goa           Phd  ...  NaN        NaN           NaN    NaN\n",
              "6     NaN  NaN      NaN           NaN  ...   12  Allahabad          Bcom  40000\n",
              "7     NaN  NaN      NaN           NaN  ...   52    Kannuaj        B.hons  12000\n",
              "\n",
              "[6 rows x 10 columns]"
            ]
          },
          "metadata": {
            "tags": []
          },
          "execution_count": 24
        }
      ]
    },
    {
      "cell_type": "markdown",
      "metadata": {
        "id": "Q7sga9jgXE1J",
        "colab_type": "text"
      },
      "source": [
        "##Concatenating DataFrame using .append()"
      ]
    },
    {
      "cell_type": "code",
      "metadata": {
        "id": "E69cPWFzWFF_",
        "colab_type": "code",
        "colab": {
          "base_uri": "https://localhost:8080/",
          "height": 196
        },
        "outputId": "057bcb71-e9df-45c4-918a-45c255f1bcee"
      },
      "source": [
        "#creating a data dictionary containing of employee data\n",
        "\n",
        "data1 = {'Name':['waqqas', 'raj', 'huma', 'rekha'],\n",
        "         'Age':['23', '34', '21', '25'],\n",
        "         'City':['Rudauli', 'kanpur', 'lucknow', 'goa'],\n",
        "         'Qualification':['Msc', 'MA', 'MCA', 'Phd']}\n",
        "\n",
        "#creating a data dictionary containing of employee data\n",
        "data2 = {'Name':['Abhi', 'Ayushi', 'Dhiraj', 'Hitesh'], \n",
        "        'Age':[17, 14, 12, 52], \n",
        "        'City':['Nagpur', 'Kanpur', 'Allahabad', 'Kannuaj'], \n",
        "        'Qualification':['Btech', 'B.A', 'Bcom', 'B.hons']}\n",
        "\n",
        "#Convert dictionary in to Dataframe\n",
        "df1 = pd.DataFrame(data1, index=[0,1,2,3])\n",
        "df2 = pd.DataFrame(data2, index=[4,5,6,7])\n",
        "\n",
        "print(df1, \"\\n\\n\", df2) "
      ],
      "execution_count": 25,
      "outputs": [
        {
          "output_type": "stream",
          "text": [
            "     Name Age     City Qualification\n",
            "0  waqqas  23  Rudauli           Msc\n",
            "1     raj  34   kanpur            MA\n",
            "2    huma  21  lucknow           MCA\n",
            "3   rekha  25      goa           Phd \n",
            "\n",
            "      Name  Age       City Qualification\n",
            "4    Abhi   17     Nagpur         Btech\n",
            "5  Ayushi   14     Kanpur           B.A\n",
            "6  Dhiraj   12  Allahabad          Bcom\n",
            "7  Hitesh   52    Kannuaj        B.hons\n"
          ],
          "name": "stdout"
        }
      ]
    },
    {
      "cell_type": "code",
      "metadata": {
        "id": "JEcHiw1bXK65",
        "colab_type": "code",
        "colab": {
          "base_uri": "https://localhost:8080/",
          "height": 277
        },
        "outputId": "75c4f671-774e-47cf-ae26-f8bb08476142"
      },
      "source": [
        "# using append function\n",
        " \n",
        "oc1 = df1.append(df2)\n",
        "oc1"
      ],
      "execution_count": 26,
      "outputs": [
        {
          "output_type": "execute_result",
          "data": {
            "text/html": [
              "<div>\n",
              "<style scoped>\n",
              "    .dataframe tbody tr th:only-of-type {\n",
              "        vertical-align: middle;\n",
              "    }\n",
              "\n",
              "    .dataframe tbody tr th {\n",
              "        vertical-align: top;\n",
              "    }\n",
              "\n",
              "    .dataframe thead th {\n",
              "        text-align: right;\n",
              "    }\n",
              "</style>\n",
              "<table border=\"1\" class=\"dataframe\">\n",
              "  <thead>\n",
              "    <tr style=\"text-align: right;\">\n",
              "      <th></th>\n",
              "      <th>Name</th>\n",
              "      <th>Age</th>\n",
              "      <th>City</th>\n",
              "      <th>Qualification</th>\n",
              "    </tr>\n",
              "  </thead>\n",
              "  <tbody>\n",
              "    <tr>\n",
              "      <th>0</th>\n",
              "      <td>waqqas</td>\n",
              "      <td>23</td>\n",
              "      <td>Rudauli</td>\n",
              "      <td>Msc</td>\n",
              "    </tr>\n",
              "    <tr>\n",
              "      <th>1</th>\n",
              "      <td>raj</td>\n",
              "      <td>34</td>\n",
              "      <td>kanpur</td>\n",
              "      <td>MA</td>\n",
              "    </tr>\n",
              "    <tr>\n",
              "      <th>2</th>\n",
              "      <td>huma</td>\n",
              "      <td>21</td>\n",
              "      <td>lucknow</td>\n",
              "      <td>MCA</td>\n",
              "    </tr>\n",
              "    <tr>\n",
              "      <th>3</th>\n",
              "      <td>rekha</td>\n",
              "      <td>25</td>\n",
              "      <td>goa</td>\n",
              "      <td>Phd</td>\n",
              "    </tr>\n",
              "    <tr>\n",
              "      <th>4</th>\n",
              "      <td>Abhi</td>\n",
              "      <td>17</td>\n",
              "      <td>Nagpur</td>\n",
              "      <td>Btech</td>\n",
              "    </tr>\n",
              "    <tr>\n",
              "      <th>5</th>\n",
              "      <td>Ayushi</td>\n",
              "      <td>14</td>\n",
              "      <td>Kanpur</td>\n",
              "      <td>B.A</td>\n",
              "    </tr>\n",
              "    <tr>\n",
              "      <th>6</th>\n",
              "      <td>Dhiraj</td>\n",
              "      <td>12</td>\n",
              "      <td>Allahabad</td>\n",
              "      <td>Bcom</td>\n",
              "    </tr>\n",
              "    <tr>\n",
              "      <th>7</th>\n",
              "      <td>Hitesh</td>\n",
              "      <td>52</td>\n",
              "      <td>Kannuaj</td>\n",
              "      <td>B.hons</td>\n",
              "    </tr>\n",
              "  </tbody>\n",
              "</table>\n",
              "</div>"
            ],
            "text/plain": [
              "     Name Age       City Qualification\n",
              "0  waqqas  23    Rudauli           Msc\n",
              "1     raj  34     kanpur            MA\n",
              "2    huma  21    lucknow           MCA\n",
              "3   rekha  25        goa           Phd\n",
              "4    Abhi  17     Nagpur         Btech\n",
              "5  Ayushi  14     Kanpur           B.A\n",
              "6  Dhiraj  12  Allahabad          Bcom\n",
              "7  Hitesh  52    Kannuaj        B.hons"
            ]
          },
          "metadata": {
            "tags": []
          },
          "execution_count": 26
        }
      ]
    },
    {
      "cell_type": "markdown",
      "metadata": {
        "id": "3wP5e1ueXr6x",
        "colab_type": "text"
      },
      "source": [
        "##Concatenating DataFrame by ignoring indexes :"
      ]
    },
    {
      "cell_type": "code",
      "metadata": {
        "id": "Tg0oMoAwXoz_",
        "colab_type": "code",
        "colab": {
          "base_uri": "https://localhost:8080/",
          "height": 196
        },
        "outputId": "d32c3b2b-8df0-4030-cb92-75b45c6ca7da"
      },
      "source": [
        "#creating a data dictionary containing of employee data\n",
        "data1 = {'Name':['waqqas', 'raj', 'huma', 'rekha'],\n",
        "         'Age':['23', '34', '21', '25'],\n",
        "         'City':['Rudauli', 'kanpur', 'lucknow', 'goa'],\n",
        "         'Qualification':['Msc', 'MA', 'MCA', 'Phd'],\n",
        "         'Mobile_no.':['453453', '2345','34523', '2345']}\n",
        "\n",
        "#creating a data dictionary containing of employee data\n",
        "data2 = {'Name':['waqqas', 'raj', 'Dhiraj', 'Hitesh'], \n",
        "        'Age':['23', '34', '12', '52'], \n",
        "        'City':['Rudauli', 'kanpur', 'Allahabad', 'Kannuaj'], \n",
        "        'Qualification':['Msc', 'MA', 'Bcom', 'B.hons'],\n",
        "         'salary':['20000','30000','40000','12000']}\n",
        "\n",
        "\n",
        "#Convert dictionary in to Dataframe\n",
        "df1 = pd.DataFrame(data1, index=[0,1,2,3])\n",
        "df2 = pd.DataFrame(data2, index=[0,1,6,7])\n",
        "\n",
        "print(df1, \"\\n\\n\", df2) "
      ],
      "execution_count": 27,
      "outputs": [
        {
          "output_type": "stream",
          "text": [
            "     Name Age     City Qualification Mobile_no.\n",
            "0  waqqas  23  Rudauli           Msc     453453\n",
            "1     raj  34   kanpur            MA       2345\n",
            "2    huma  21  lucknow           MCA      34523\n",
            "3   rekha  25      goa           Phd       2345 \n",
            "\n",
            "      Name Age       City Qualification salary\n",
            "0  waqqas  23    Rudauli           Msc  20000\n",
            "1     raj  34     kanpur            MA  30000\n",
            "6  Dhiraj  12  Allahabad          Bcom  40000\n",
            "7  Hitesh  52    Kannuaj        B.hons  12000\n"
          ],
          "name": "stdout"
        }
      ]
    },
    {
      "cell_type": "code",
      "metadata": {
        "id": "nlsNVzxCXy8N",
        "colab_type": "code",
        "colab": {
          "base_uri": "https://localhost:8080/",
          "height": 277
        },
        "outputId": "a9c389e3-bacb-4273-aa66-75b52593262a"
      },
      "source": [
        "# using ignore_index\n",
        "oc1 = pd.concat([df1, df2], ignore_index=True)\n",
        "oc1"
      ],
      "execution_count": 28,
      "outputs": [
        {
          "output_type": "execute_result",
          "data": {
            "text/html": [
              "<div>\n",
              "<style scoped>\n",
              "    .dataframe tbody tr th:only-of-type {\n",
              "        vertical-align: middle;\n",
              "    }\n",
              "\n",
              "    .dataframe tbody tr th {\n",
              "        vertical-align: top;\n",
              "    }\n",
              "\n",
              "    .dataframe thead th {\n",
              "        text-align: right;\n",
              "    }\n",
              "</style>\n",
              "<table border=\"1\" class=\"dataframe\">\n",
              "  <thead>\n",
              "    <tr style=\"text-align: right;\">\n",
              "      <th></th>\n",
              "      <th>Name</th>\n",
              "      <th>Age</th>\n",
              "      <th>City</th>\n",
              "      <th>Qualification</th>\n",
              "      <th>Mobile_no.</th>\n",
              "      <th>salary</th>\n",
              "    </tr>\n",
              "  </thead>\n",
              "  <tbody>\n",
              "    <tr>\n",
              "      <th>0</th>\n",
              "      <td>waqqas</td>\n",
              "      <td>23</td>\n",
              "      <td>Rudauli</td>\n",
              "      <td>Msc</td>\n",
              "      <td>453453</td>\n",
              "      <td>NaN</td>\n",
              "    </tr>\n",
              "    <tr>\n",
              "      <th>1</th>\n",
              "      <td>raj</td>\n",
              "      <td>34</td>\n",
              "      <td>kanpur</td>\n",
              "      <td>MA</td>\n",
              "      <td>2345</td>\n",
              "      <td>NaN</td>\n",
              "    </tr>\n",
              "    <tr>\n",
              "      <th>2</th>\n",
              "      <td>huma</td>\n",
              "      <td>21</td>\n",
              "      <td>lucknow</td>\n",
              "      <td>MCA</td>\n",
              "      <td>34523</td>\n",
              "      <td>NaN</td>\n",
              "    </tr>\n",
              "    <tr>\n",
              "      <th>3</th>\n",
              "      <td>rekha</td>\n",
              "      <td>25</td>\n",
              "      <td>goa</td>\n",
              "      <td>Phd</td>\n",
              "      <td>2345</td>\n",
              "      <td>NaN</td>\n",
              "    </tr>\n",
              "    <tr>\n",
              "      <th>4</th>\n",
              "      <td>waqqas</td>\n",
              "      <td>23</td>\n",
              "      <td>Rudauli</td>\n",
              "      <td>Msc</td>\n",
              "      <td>NaN</td>\n",
              "      <td>20000</td>\n",
              "    </tr>\n",
              "    <tr>\n",
              "      <th>5</th>\n",
              "      <td>raj</td>\n",
              "      <td>34</td>\n",
              "      <td>kanpur</td>\n",
              "      <td>MA</td>\n",
              "      <td>NaN</td>\n",
              "      <td>30000</td>\n",
              "    </tr>\n",
              "    <tr>\n",
              "      <th>6</th>\n",
              "      <td>Dhiraj</td>\n",
              "      <td>12</td>\n",
              "      <td>Allahabad</td>\n",
              "      <td>Bcom</td>\n",
              "      <td>NaN</td>\n",
              "      <td>40000</td>\n",
              "    </tr>\n",
              "    <tr>\n",
              "      <th>7</th>\n",
              "      <td>Hitesh</td>\n",
              "      <td>52</td>\n",
              "      <td>Kannuaj</td>\n",
              "      <td>B.hons</td>\n",
              "      <td>NaN</td>\n",
              "      <td>12000</td>\n",
              "    </tr>\n",
              "  </tbody>\n",
              "</table>\n",
              "</div>"
            ],
            "text/plain": [
              "     Name Age       City Qualification Mobile_no. salary\n",
              "0  waqqas  23    Rudauli           Msc     453453    NaN\n",
              "1     raj  34     kanpur            MA       2345    NaN\n",
              "2    huma  21    lucknow           MCA      34523    NaN\n",
              "3   rekha  25        goa           Phd       2345    NaN\n",
              "4  waqqas  23    Rudauli           Msc        NaN  20000\n",
              "5     raj  34     kanpur            MA        NaN  30000\n",
              "6  Dhiraj  12  Allahabad          Bcom        NaN  40000\n",
              "7  Hitesh  52    Kannuaj        B.hons        NaN  12000"
            ]
          },
          "metadata": {
            "tags": []
          },
          "execution_count": 28
        }
      ]
    },
    {
      "cell_type": "markdown",
      "metadata": {
        "id": "vzr6IXbHYN79",
        "colab_type": "text"
      },
      "source": [
        "##Concatenating DataFrame with group keys :"
      ]
    },
    {
      "cell_type": "code",
      "metadata": {
        "id": "S7yLC_YhYIdG",
        "colab_type": "code",
        "colab": {
          "base_uri": "https://localhost:8080/",
          "height": 196
        },
        "outputId": "96f2fe01-825c-4f28-e68b-825726334751"
      },
      "source": [
        "#creating a data dictionary containing of employee data\n",
        "\n",
        "data1 = {'Name':['waqqas', 'raj', 'huma', 'rekha'],\n",
        "         'Age':['23', '34', '21', '25'],\n",
        "         'City':['Rudauli', 'kanpur', 'lucknow', 'goa'],\n",
        "         'Qualification':['Msc', 'MA', 'MCA', 'Phd']}\n",
        "\n",
        "#creating a data dictionary containing of employee data\n",
        "data2 = {'Name':['Abhi', 'Ayushi', 'Dhiraj', 'Hitesh'], \n",
        "        'Age':[17, 14, 12, 52], \n",
        "        'City':['Nagpur', 'Kanpur', 'Allahabad', 'Kannuaj'], \n",
        "        'Qualification':['Btech', 'B.A', 'Bcom', 'B.hons']}\n",
        "\n",
        "#Convert dictionary in to Dataframe\n",
        "df1 = pd.DataFrame(data1, index=[0,1,2,3])\n",
        "df2 = pd.DataFrame(data2, index=[4,5,6,7])\n",
        "\n",
        "print(df1, \"\\n\\n\", df2) "
      ],
      "execution_count": 29,
      "outputs": [
        {
          "output_type": "stream",
          "text": [
            "     Name Age     City Qualification\n",
            "0  waqqas  23  Rudauli           Msc\n",
            "1     raj  34   kanpur            MA\n",
            "2    huma  21  lucknow           MCA\n",
            "3   rekha  25      goa           Phd \n",
            "\n",
            "      Name  Age       City Qualification\n",
            "4    Abhi   17     Nagpur         Btech\n",
            "5  Ayushi   14     Kanpur           B.A\n",
            "6  Dhiraj   12  Allahabad          Bcom\n",
            "7  Hitesh   52    Kannuaj        B.hons\n"
          ],
          "name": "stdout"
        }
      ]
    },
    {
      "cell_type": "code",
      "metadata": {
        "id": "sFi6RDv3Y6j8",
        "colab_type": "code",
        "colab": {
          "base_uri": "https://localhost:8080/",
          "height": 277
        },
        "outputId": "bc7d4240-26fe-43a7-8cf4-ea54b2c72192"
      },
      "source": [
        "oc1 = pd.concat([df1, df2], keys=['A','B'])\n",
        "oc1"
      ],
      "execution_count": 31,
      "outputs": [
        {
          "output_type": "execute_result",
          "data": {
            "text/html": [
              "<div>\n",
              "<style scoped>\n",
              "    .dataframe tbody tr th:only-of-type {\n",
              "        vertical-align: middle;\n",
              "    }\n",
              "\n",
              "    .dataframe tbody tr th {\n",
              "        vertical-align: top;\n",
              "    }\n",
              "\n",
              "    .dataframe thead th {\n",
              "        text-align: right;\n",
              "    }\n",
              "</style>\n",
              "<table border=\"1\" class=\"dataframe\">\n",
              "  <thead>\n",
              "    <tr style=\"text-align: right;\">\n",
              "      <th></th>\n",
              "      <th></th>\n",
              "      <th>Name</th>\n",
              "      <th>Age</th>\n",
              "      <th>City</th>\n",
              "      <th>Qualification</th>\n",
              "    </tr>\n",
              "  </thead>\n",
              "  <tbody>\n",
              "    <tr>\n",
              "      <th rowspan=\"4\" valign=\"top\">A</th>\n",
              "      <th>0</th>\n",
              "      <td>waqqas</td>\n",
              "      <td>23</td>\n",
              "      <td>Rudauli</td>\n",
              "      <td>Msc</td>\n",
              "    </tr>\n",
              "    <tr>\n",
              "      <th>1</th>\n",
              "      <td>raj</td>\n",
              "      <td>34</td>\n",
              "      <td>kanpur</td>\n",
              "      <td>MA</td>\n",
              "    </tr>\n",
              "    <tr>\n",
              "      <th>2</th>\n",
              "      <td>huma</td>\n",
              "      <td>21</td>\n",
              "      <td>lucknow</td>\n",
              "      <td>MCA</td>\n",
              "    </tr>\n",
              "    <tr>\n",
              "      <th>3</th>\n",
              "      <td>rekha</td>\n",
              "      <td>25</td>\n",
              "      <td>goa</td>\n",
              "      <td>Phd</td>\n",
              "    </tr>\n",
              "    <tr>\n",
              "      <th rowspan=\"4\" valign=\"top\">B</th>\n",
              "      <th>4</th>\n",
              "      <td>Abhi</td>\n",
              "      <td>17</td>\n",
              "      <td>Nagpur</td>\n",
              "      <td>Btech</td>\n",
              "    </tr>\n",
              "    <tr>\n",
              "      <th>5</th>\n",
              "      <td>Ayushi</td>\n",
              "      <td>14</td>\n",
              "      <td>Kanpur</td>\n",
              "      <td>B.A</td>\n",
              "    </tr>\n",
              "    <tr>\n",
              "      <th>6</th>\n",
              "      <td>Dhiraj</td>\n",
              "      <td>12</td>\n",
              "      <td>Allahabad</td>\n",
              "      <td>Bcom</td>\n",
              "    </tr>\n",
              "    <tr>\n",
              "      <th>7</th>\n",
              "      <td>Hitesh</td>\n",
              "      <td>52</td>\n",
              "      <td>Kannuaj</td>\n",
              "      <td>B.hons</td>\n",
              "    </tr>\n",
              "  </tbody>\n",
              "</table>\n",
              "</div>"
            ],
            "text/plain": [
              "       Name Age       City Qualification\n",
              "A 0  waqqas  23    Rudauli           Msc\n",
              "  1     raj  34     kanpur            MA\n",
              "  2    huma  21    lucknow           MCA\n",
              "  3   rekha  25        goa           Phd\n",
              "B 4    Abhi  17     Nagpur         Btech\n",
              "  5  Ayushi  14     Kanpur           B.A\n",
              "  6  Dhiraj  12  Allahabad          Bcom\n",
              "  7  Hitesh  52    Kannuaj        B.hons"
            ]
          },
          "metadata": {
            "tags": []
          },
          "execution_count": 31
        }
      ]
    },
    {
      "cell_type": "markdown",
      "metadata": {
        "id": "RIQczZuVZ8p3",
        "colab_type": "text"
      },
      "source": [
        "##Concatenating with mixed ndims :"
      ]
    },
    {
      "cell_type": "code",
      "metadata": {
        "id": "nD8FjZuUZDlQ",
        "colab_type": "code",
        "colab": {
          "base_uri": "https://localhost:8080/",
          "height": 196
        },
        "outputId": "8c058adc-2a41-4cc8-b377-333cf8207ff4"
      },
      "source": [
        "data1 = {'Name':['waqqas', 'raj', 'huma', 'rekha'],\n",
        "         'Age':['23', '34', '21', '25'],\n",
        "         'City':['Rudauli', 'kanpur', 'lucknow', 'goa'],\n",
        "         'Qualification':['Msc', 'MA', 'MCA', 'Phd']}\n",
        "\n",
        "#Convert dictionary in to Dataframe\n",
        "df1 = pd.DataFrame(data1, index=[0,1,2,3])\n",
        "\n",
        "# creating a series\n",
        "s1 = pd.Series([1000, 2000, 3000, 4000], name='Salary')\n",
        "\n",
        "print(df1, \"\\n\\n\", s1)"
      ],
      "execution_count": 33,
      "outputs": [
        {
          "output_type": "stream",
          "text": [
            "     Name Age     City Qualification\n",
            "0  waqqas  23  Rudauli           Msc\n",
            "1     raj  34   kanpur            MA\n",
            "2    huma  21  lucknow           MCA\n",
            "3   rekha  25      goa           Phd \n",
            "\n",
            " 0    1000\n",
            "1    2000\n",
            "2    3000\n",
            "3    4000\n",
            "Name: Salary, dtype: int64\n"
          ],
          "name": "stdout"
        }
      ]
    },
    {
      "cell_type": "code",
      "metadata": {
        "id": "DIm34zpFaUNU",
        "colab_type": "code",
        "colab": {
          "base_uri": "https://localhost:8080/",
          "height": 162
        },
        "outputId": "39c261fe-a5f9-4998-ff9e-323fc078f7d6"
      },
      "source": [
        "# combining series and dataframe\n",
        "oc1 = pd.concat([df1, s1], axis=1)\n",
        "oc1"
      ],
      "execution_count": 34,
      "outputs": [
        {
          "output_type": "execute_result",
          "data": {
            "text/html": [
              "<div>\n",
              "<style scoped>\n",
              "    .dataframe tbody tr th:only-of-type {\n",
              "        vertical-align: middle;\n",
              "    }\n",
              "\n",
              "    .dataframe tbody tr th {\n",
              "        vertical-align: top;\n",
              "    }\n",
              "\n",
              "    .dataframe thead th {\n",
              "        text-align: right;\n",
              "    }\n",
              "</style>\n",
              "<table border=\"1\" class=\"dataframe\">\n",
              "  <thead>\n",
              "    <tr style=\"text-align: right;\">\n",
              "      <th></th>\n",
              "      <th>Name</th>\n",
              "      <th>Age</th>\n",
              "      <th>City</th>\n",
              "      <th>Qualification</th>\n",
              "      <th>Salary</th>\n",
              "    </tr>\n",
              "  </thead>\n",
              "  <tbody>\n",
              "    <tr>\n",
              "      <th>0</th>\n",
              "      <td>waqqas</td>\n",
              "      <td>23</td>\n",
              "      <td>Rudauli</td>\n",
              "      <td>Msc</td>\n",
              "      <td>1000</td>\n",
              "    </tr>\n",
              "    <tr>\n",
              "      <th>1</th>\n",
              "      <td>raj</td>\n",
              "      <td>34</td>\n",
              "      <td>kanpur</td>\n",
              "      <td>MA</td>\n",
              "      <td>2000</td>\n",
              "    </tr>\n",
              "    <tr>\n",
              "      <th>2</th>\n",
              "      <td>huma</td>\n",
              "      <td>21</td>\n",
              "      <td>lucknow</td>\n",
              "      <td>MCA</td>\n",
              "      <td>3000</td>\n",
              "    </tr>\n",
              "    <tr>\n",
              "      <th>3</th>\n",
              "      <td>rekha</td>\n",
              "      <td>25</td>\n",
              "      <td>goa</td>\n",
              "      <td>Phd</td>\n",
              "      <td>4000</td>\n",
              "    </tr>\n",
              "  </tbody>\n",
              "</table>\n",
              "</div>"
            ],
            "text/plain": [
              "     Name Age     City Qualification  Salary\n",
              "0  waqqas  23  Rudauli           Msc    1000\n",
              "1     raj  34   kanpur            MA    2000\n",
              "2    huma  21  lucknow           MCA    3000\n",
              "3   rekha  25      goa           Phd    4000"
            ]
          },
          "metadata": {
            "tags": []
          },
          "execution_count": 34
        }
      ]
    },
    {
      "cell_type": "markdown",
      "metadata": {
        "id": "pLN2sRsuhiN0",
        "colab_type": "text"
      },
      "source": [
        "#Merging DataFrame\n",
        "There are four basic ways to handle the join (inner, left, right, and outer), depending on which rows must retain their data."
      ]
    },
    {
      "cell_type": "code",
      "metadata": {
        "id": "meaYGzUSaeQH",
        "colab_type": "code",
        "colab": {
          "base_uri": "https://localhost:8080/",
          "height": 196
        },
        "outputId": "63060d19-ec24-4e43-fc96-88f84b800191"
      },
      "source": [
        "# Define a dictionary containing employee data \n",
        "data1 = {'key': ['K0', 'K1', 'K2', 'K3'],\n",
        "         'Name':['Jai', 'Princi', 'Gaurav', 'Anuj'], \n",
        "        'Age':[27, 24, 22, 32],} \n",
        "   \n",
        "# Define a dictionary containing employee data \n",
        "data2 = {'key': ['K0', 'K1', 'K2', 'K3'],\n",
        "         'Address':['Nagpur', 'Kanpur', 'Allahabad', 'Kannuaj'], \n",
        "        'Qualification':['Btech', 'B.A', 'Bcom', 'B.hons']} \n",
        " \n",
        "# Convert the dictionary into DataFrame  \n",
        "df = pd.DataFrame(data1)\n",
        " \n",
        "# Convert the dictionary into DataFrame  \n",
        "df1 = pd.DataFrame(data2) \n",
        "  \n",
        " \n",
        "print(df, \"\\n\\n\", df1) "
      ],
      "execution_count": 35,
      "outputs": [
        {
          "output_type": "stream",
          "text": [
            "  key    Name  Age\n",
            "0  K0     Jai   27\n",
            "1  K1  Princi   24\n",
            "2  K2  Gaurav   22\n",
            "3  K3    Anuj   32 \n",
            "\n",
            "   key    Address Qualification\n",
            "0  K0     Nagpur         Btech\n",
            "1  K1     Kanpur           B.A\n",
            "2  K2  Allahabad          Bcom\n",
            "3  K3    Kannuaj        B.hons\n"
          ],
          "name": "stdout"
        }
      ]
    },
    {
      "cell_type": "code",
      "metadata": {
        "id": "5DJM7mGFiYW7",
        "colab_type": "code",
        "colab": {
          "base_uri": "https://localhost:8080/",
          "height": 162
        },
        "outputId": "0d8f795f-a2b0-400d-cac9-971bc6d1e19d"
      },
      "source": [
        "#Now we are using .merge() with one unique key combination\n",
        "\n",
        "# using .merge() function\n",
        "res = pd.merge(df, df1, on='key')\n",
        " \n",
        "res"
      ],
      "execution_count": 36,
      "outputs": [
        {
          "output_type": "execute_result",
          "data": {
            "text/html": [
              "<div>\n",
              "<style scoped>\n",
              "    .dataframe tbody tr th:only-of-type {\n",
              "        vertical-align: middle;\n",
              "    }\n",
              "\n",
              "    .dataframe tbody tr th {\n",
              "        vertical-align: top;\n",
              "    }\n",
              "\n",
              "    .dataframe thead th {\n",
              "        text-align: right;\n",
              "    }\n",
              "</style>\n",
              "<table border=\"1\" class=\"dataframe\">\n",
              "  <thead>\n",
              "    <tr style=\"text-align: right;\">\n",
              "      <th></th>\n",
              "      <th>key</th>\n",
              "      <th>Name</th>\n",
              "      <th>Age</th>\n",
              "      <th>Address</th>\n",
              "      <th>Qualification</th>\n",
              "    </tr>\n",
              "  </thead>\n",
              "  <tbody>\n",
              "    <tr>\n",
              "      <th>0</th>\n",
              "      <td>K0</td>\n",
              "      <td>Jai</td>\n",
              "      <td>27</td>\n",
              "      <td>Nagpur</td>\n",
              "      <td>Btech</td>\n",
              "    </tr>\n",
              "    <tr>\n",
              "      <th>1</th>\n",
              "      <td>K1</td>\n",
              "      <td>Princi</td>\n",
              "      <td>24</td>\n",
              "      <td>Kanpur</td>\n",
              "      <td>B.A</td>\n",
              "    </tr>\n",
              "    <tr>\n",
              "      <th>2</th>\n",
              "      <td>K2</td>\n",
              "      <td>Gaurav</td>\n",
              "      <td>22</td>\n",
              "      <td>Allahabad</td>\n",
              "      <td>Bcom</td>\n",
              "    </tr>\n",
              "    <tr>\n",
              "      <th>3</th>\n",
              "      <td>K3</td>\n",
              "      <td>Anuj</td>\n",
              "      <td>32</td>\n",
              "      <td>Kannuaj</td>\n",
              "      <td>B.hons</td>\n",
              "    </tr>\n",
              "  </tbody>\n",
              "</table>\n",
              "</div>"
            ],
            "text/plain": [
              "  key    Name  Age    Address Qualification\n",
              "0  K0     Jai   27     Nagpur         Btech\n",
              "1  K1  Princi   24     Kanpur           B.A\n",
              "2  K2  Gaurav   22  Allahabad          Bcom\n",
              "3  K3    Anuj   32    Kannuaj        B.hons"
            ]
          },
          "metadata": {
            "tags": []
          },
          "execution_count": 36
        }
      ]
    },
    {
      "cell_type": "code",
      "metadata": {
        "id": "t6_xcgHKitZN",
        "colab_type": "code",
        "colab": {
          "base_uri": "https://localhost:8080/",
          "height": 196
        },
        "outputId": "a5808507-6b35-47d7-85cc-d780577ca7e6"
      },
      "source": [
        "#Merging dataframe using multiple join keys.\n",
        "# Define a dictionary containing employee data \n",
        "data1 = {'key': ['K0', 'K1', 'K2', 'K3'],\n",
        "         'key1': ['K0', 'K1', 'K0', 'K1'],\n",
        "         'Name':['Jai', 'Princi', 'Gaurav', 'Anuj'], \n",
        "        'Age':[27, 24, 22, 32],} \n",
        "   \n",
        "# Define a dictionary containing employee data \n",
        "data2 = {'key': ['K0', 'K1', 'K2', 'K3'],\n",
        "         'key1': ['K0', 'K0', 'K0', 'K0'],\n",
        "         'Address':['Nagpur', 'Kanpur', 'Allahabad', 'Kannuaj'], \n",
        "        'Qualification':['Btech', 'B.A', 'Bcom', 'B.hons']} \n",
        " \n",
        "# Convert the dictionary into DataFrame  \n",
        "df = pd.DataFrame(data1)\n",
        " \n",
        "# Convert the dictionary into DataFrame  \n",
        "df1 = pd.DataFrame(data2) \n",
        "  \n",
        " \n",
        "print(df, \"\\n\\n\", df1) "
      ],
      "execution_count": 37,
      "outputs": [
        {
          "output_type": "stream",
          "text": [
            "  key key1    Name  Age\n",
            "0  K0   K0     Jai   27\n",
            "1  K1   K1  Princi   24\n",
            "2  K2   K0  Gaurav   22\n",
            "3  K3   K1    Anuj   32 \n",
            "\n",
            "   key key1    Address Qualification\n",
            "0  K0   K0     Nagpur         Btech\n",
            "1  K1   K0     Kanpur           B.A\n",
            "2  K2   K0  Allahabad          Bcom\n",
            "3  K3   K0    Kannuaj        B.hons\n"
          ],
          "name": "stdout"
        }
      ]
    },
    {
      "cell_type": "code",
      "metadata": {
        "id": "KUfKWArgiybD",
        "colab_type": "code",
        "colab": {
          "base_uri": "https://localhost:8080/",
          "height": 105
        },
        "outputId": "7e02227c-3b6f-4bab-ed9c-273c15d6bbba"
      },
      "source": [
        "# merging dataframe using multiple keys\n",
        "res1 = pd.merge(df, df1, on=['key', 'key1'])\n",
        " \n",
        "res1"
      ],
      "execution_count": 38,
      "outputs": [
        {
          "output_type": "execute_result",
          "data": {
            "text/html": [
              "<div>\n",
              "<style scoped>\n",
              "    .dataframe tbody tr th:only-of-type {\n",
              "        vertical-align: middle;\n",
              "    }\n",
              "\n",
              "    .dataframe tbody tr th {\n",
              "        vertical-align: top;\n",
              "    }\n",
              "\n",
              "    .dataframe thead th {\n",
              "        text-align: right;\n",
              "    }\n",
              "</style>\n",
              "<table border=\"1\" class=\"dataframe\">\n",
              "  <thead>\n",
              "    <tr style=\"text-align: right;\">\n",
              "      <th></th>\n",
              "      <th>key</th>\n",
              "      <th>key1</th>\n",
              "      <th>Name</th>\n",
              "      <th>Age</th>\n",
              "      <th>Address</th>\n",
              "      <th>Qualification</th>\n",
              "    </tr>\n",
              "  </thead>\n",
              "  <tbody>\n",
              "    <tr>\n",
              "      <th>0</th>\n",
              "      <td>K0</td>\n",
              "      <td>K0</td>\n",
              "      <td>Jai</td>\n",
              "      <td>27</td>\n",
              "      <td>Nagpur</td>\n",
              "      <td>Btech</td>\n",
              "    </tr>\n",
              "    <tr>\n",
              "      <th>1</th>\n",
              "      <td>K2</td>\n",
              "      <td>K0</td>\n",
              "      <td>Gaurav</td>\n",
              "      <td>22</td>\n",
              "      <td>Allahabad</td>\n",
              "      <td>Bcom</td>\n",
              "    </tr>\n",
              "  </tbody>\n",
              "</table>\n",
              "</div>"
            ],
            "text/plain": [
              "  key key1    Name  Age    Address Qualification\n",
              "0  K0   K0     Jai   27     Nagpur         Btech\n",
              "1  K2   K0  Gaurav   22  Allahabad          Bcom"
            ]
          },
          "metadata": {
            "tags": []
          },
          "execution_count": 38
        }
      ]
    },
    {
      "cell_type": "markdown",
      "metadata": {
        "id": "609hQqbsjSWD",
        "colab_type": "text"
      },
      "source": [
        "#Merging dataframe using \"how\" in an argument:"
      ]
    },
    {
      "cell_type": "code",
      "metadata": {
        "id": "99OyH_EzjTjQ",
        "colab_type": "code",
        "colab": {
          "base_uri": "https://localhost:8080/",
          "height": 196
        },
        "outputId": "35c4fc95-db4c-4e5b-8462-ad4beb1a995c"
      },
      "source": [
        "# Define a dictionary containing employee data \n",
        "data1 = {'key': ['K0', 'K1', 'K2', 'K3'],\n",
        "         'key1': ['K0', 'K1', 'K0', 'K1'],\n",
        "         'Name':['Jai', 'Princi', 'Gaurav', 'Anuj'], \n",
        "        'Age':[27, 24, 22, 32],} \n",
        "   \n",
        "# Define a dictionary containing employee data \n",
        "data2 = {'key': ['K0', 'K1', 'K2', 'K3'],\n",
        "         'key1': ['K0', 'K0', 'K0', 'K0'],\n",
        "         'Address':['Nagpur', 'Kanpur', 'Allahabad', 'Kannuaj'], \n",
        "        'Qualification':['Btech', 'B.A', 'Bcom', 'B.hons']} \n",
        " \n",
        "# Convert the dictionary into DataFrame  \n",
        "df = pd.DataFrame(data1)\n",
        " \n",
        "# Convert the dictionary into DataFrame  \n",
        "df1 = pd.DataFrame(data2) \n",
        "  \n",
        " \n",
        "print(df, \"\\n\\n\", df1) "
      ],
      "execution_count": 39,
      "outputs": [
        {
          "output_type": "stream",
          "text": [
            "  key key1    Name  Age\n",
            "0  K0   K0     Jai   27\n",
            "1  K1   K1  Princi   24\n",
            "2  K2   K0  Gaurav   22\n",
            "3  K3   K1    Anuj   32 \n",
            "\n",
            "   key key1    Address Qualification\n",
            "0  K0   K0     Nagpur         Btech\n",
            "1  K1   K0     Kanpur           B.A\n",
            "2  K2   K0  Allahabad          Bcom\n",
            "3  K3   K0    Kannuaj        B.hons\n"
          ],
          "name": "stdout"
        }
      ]
    },
    {
      "cell_type": "code",
      "metadata": {
        "id": "r_y0L5whkP7s",
        "colab_type": "code",
        "colab": {
          "base_uri": "https://localhost:8080/",
          "height": 162
        },
        "outputId": "91aa64d1-fba6-4c0d-cb86-2e152be19662"
      },
      "source": [
        "# using keys from left frame\n",
        "res = pd.merge(df, df1, how='left', on=['key', 'key1'])\n",
        " \n",
        "res"
      ],
      "execution_count": 40,
      "outputs": [
        {
          "output_type": "execute_result",
          "data": {
            "text/html": [
              "<div>\n",
              "<style scoped>\n",
              "    .dataframe tbody tr th:only-of-type {\n",
              "        vertical-align: middle;\n",
              "    }\n",
              "\n",
              "    .dataframe tbody tr th {\n",
              "        vertical-align: top;\n",
              "    }\n",
              "\n",
              "    .dataframe thead th {\n",
              "        text-align: right;\n",
              "    }\n",
              "</style>\n",
              "<table border=\"1\" class=\"dataframe\">\n",
              "  <thead>\n",
              "    <tr style=\"text-align: right;\">\n",
              "      <th></th>\n",
              "      <th>key</th>\n",
              "      <th>key1</th>\n",
              "      <th>Name</th>\n",
              "      <th>Age</th>\n",
              "      <th>Address</th>\n",
              "      <th>Qualification</th>\n",
              "    </tr>\n",
              "  </thead>\n",
              "  <tbody>\n",
              "    <tr>\n",
              "      <th>0</th>\n",
              "      <td>K0</td>\n",
              "      <td>K0</td>\n",
              "      <td>Jai</td>\n",
              "      <td>27</td>\n",
              "      <td>Nagpur</td>\n",
              "      <td>Btech</td>\n",
              "    </tr>\n",
              "    <tr>\n",
              "      <th>1</th>\n",
              "      <td>K1</td>\n",
              "      <td>K1</td>\n",
              "      <td>Princi</td>\n",
              "      <td>24</td>\n",
              "      <td>NaN</td>\n",
              "      <td>NaN</td>\n",
              "    </tr>\n",
              "    <tr>\n",
              "      <th>2</th>\n",
              "      <td>K2</td>\n",
              "      <td>K0</td>\n",
              "      <td>Gaurav</td>\n",
              "      <td>22</td>\n",
              "      <td>Allahabad</td>\n",
              "      <td>Bcom</td>\n",
              "    </tr>\n",
              "    <tr>\n",
              "      <th>3</th>\n",
              "      <td>K3</td>\n",
              "      <td>K1</td>\n",
              "      <td>Anuj</td>\n",
              "      <td>32</td>\n",
              "      <td>NaN</td>\n",
              "      <td>NaN</td>\n",
              "    </tr>\n",
              "  </tbody>\n",
              "</table>\n",
              "</div>"
            ],
            "text/plain": [
              "  key key1    Name  Age    Address Qualification\n",
              "0  K0   K0     Jai   27     Nagpur         Btech\n",
              "1  K1   K1  Princi   24        NaN           NaN\n",
              "2  K2   K0  Gaurav   22  Allahabad          Bcom\n",
              "3  K3   K1    Anuj   32        NaN           NaN"
            ]
          },
          "metadata": {
            "tags": []
          },
          "execution_count": 40
        }
      ]
    },
    {
      "cell_type": "code",
      "metadata": {
        "id": "uFbf8BHEkhFX",
        "colab_type": "code",
        "colab": {
          "base_uri": "https://localhost:8080/",
          "height": 162
        },
        "outputId": "1f2ad8ee-983e-44a5-bed6-e1d9b2a6d998"
      },
      "source": [
        "# using keys from right frame\n",
        "res1 = pd.merge(df, df1, how='right', on=['key', 'key1'])\n",
        " \n",
        "res1"
      ],
      "execution_count": 41,
      "outputs": [
        {
          "output_type": "execute_result",
          "data": {
            "text/html": [
              "<div>\n",
              "<style scoped>\n",
              "    .dataframe tbody tr th:only-of-type {\n",
              "        vertical-align: middle;\n",
              "    }\n",
              "\n",
              "    .dataframe tbody tr th {\n",
              "        vertical-align: top;\n",
              "    }\n",
              "\n",
              "    .dataframe thead th {\n",
              "        text-align: right;\n",
              "    }\n",
              "</style>\n",
              "<table border=\"1\" class=\"dataframe\">\n",
              "  <thead>\n",
              "    <tr style=\"text-align: right;\">\n",
              "      <th></th>\n",
              "      <th>key</th>\n",
              "      <th>key1</th>\n",
              "      <th>Name</th>\n",
              "      <th>Age</th>\n",
              "      <th>Address</th>\n",
              "      <th>Qualification</th>\n",
              "    </tr>\n",
              "  </thead>\n",
              "  <tbody>\n",
              "    <tr>\n",
              "      <th>0</th>\n",
              "      <td>K0</td>\n",
              "      <td>K0</td>\n",
              "      <td>Jai</td>\n",
              "      <td>27.0</td>\n",
              "      <td>Nagpur</td>\n",
              "      <td>Btech</td>\n",
              "    </tr>\n",
              "    <tr>\n",
              "      <th>1</th>\n",
              "      <td>K2</td>\n",
              "      <td>K0</td>\n",
              "      <td>Gaurav</td>\n",
              "      <td>22.0</td>\n",
              "      <td>Allahabad</td>\n",
              "      <td>Bcom</td>\n",
              "    </tr>\n",
              "    <tr>\n",
              "      <th>2</th>\n",
              "      <td>K1</td>\n",
              "      <td>K0</td>\n",
              "      <td>NaN</td>\n",
              "      <td>NaN</td>\n",
              "      <td>Kanpur</td>\n",
              "      <td>B.A</td>\n",
              "    </tr>\n",
              "    <tr>\n",
              "      <th>3</th>\n",
              "      <td>K3</td>\n",
              "      <td>K0</td>\n",
              "      <td>NaN</td>\n",
              "      <td>NaN</td>\n",
              "      <td>Kannuaj</td>\n",
              "      <td>B.hons</td>\n",
              "    </tr>\n",
              "  </tbody>\n",
              "</table>\n",
              "</div>"
            ],
            "text/plain": [
              "  key key1    Name   Age    Address Qualification\n",
              "0  K0   K0     Jai  27.0     Nagpur         Btech\n",
              "1  K2   K0  Gaurav  22.0  Allahabad          Bcom\n",
              "2  K1   K0     NaN   NaN     Kanpur           B.A\n",
              "3  K3   K0     NaN   NaN    Kannuaj        B.hons"
            ]
          },
          "metadata": {
            "tags": []
          },
          "execution_count": 41
        }
      ]
    },
    {
      "cell_type": "code",
      "metadata": {
        "id": "nOj9QmGDlhPD",
        "colab_type": "code",
        "colab": {
          "base_uri": "https://localhost:8080/",
          "height": 220
        },
        "outputId": "46ee10f1-0424-45c7-a570-8f4ee4f042e3"
      },
      "source": [
        "# getting union  of keys\n",
        "res2 = pd.merge(df, df1, how='outer', on=['key', 'key1'])\n",
        " \n",
        "res2"
      ],
      "execution_count": 42,
      "outputs": [
        {
          "output_type": "execute_result",
          "data": {
            "text/html": [
              "<div>\n",
              "<style scoped>\n",
              "    .dataframe tbody tr th:only-of-type {\n",
              "        vertical-align: middle;\n",
              "    }\n",
              "\n",
              "    .dataframe tbody tr th {\n",
              "        vertical-align: top;\n",
              "    }\n",
              "\n",
              "    .dataframe thead th {\n",
              "        text-align: right;\n",
              "    }\n",
              "</style>\n",
              "<table border=\"1\" class=\"dataframe\">\n",
              "  <thead>\n",
              "    <tr style=\"text-align: right;\">\n",
              "      <th></th>\n",
              "      <th>key</th>\n",
              "      <th>key1</th>\n",
              "      <th>Name</th>\n",
              "      <th>Age</th>\n",
              "      <th>Address</th>\n",
              "      <th>Qualification</th>\n",
              "    </tr>\n",
              "  </thead>\n",
              "  <tbody>\n",
              "    <tr>\n",
              "      <th>0</th>\n",
              "      <td>K0</td>\n",
              "      <td>K0</td>\n",
              "      <td>Jai</td>\n",
              "      <td>27.0</td>\n",
              "      <td>Nagpur</td>\n",
              "      <td>Btech</td>\n",
              "    </tr>\n",
              "    <tr>\n",
              "      <th>1</th>\n",
              "      <td>K1</td>\n",
              "      <td>K1</td>\n",
              "      <td>Princi</td>\n",
              "      <td>24.0</td>\n",
              "      <td>NaN</td>\n",
              "      <td>NaN</td>\n",
              "    </tr>\n",
              "    <tr>\n",
              "      <th>2</th>\n",
              "      <td>K2</td>\n",
              "      <td>K0</td>\n",
              "      <td>Gaurav</td>\n",
              "      <td>22.0</td>\n",
              "      <td>Allahabad</td>\n",
              "      <td>Bcom</td>\n",
              "    </tr>\n",
              "    <tr>\n",
              "      <th>3</th>\n",
              "      <td>K3</td>\n",
              "      <td>K1</td>\n",
              "      <td>Anuj</td>\n",
              "      <td>32.0</td>\n",
              "      <td>NaN</td>\n",
              "      <td>NaN</td>\n",
              "    </tr>\n",
              "    <tr>\n",
              "      <th>4</th>\n",
              "      <td>K1</td>\n",
              "      <td>K0</td>\n",
              "      <td>NaN</td>\n",
              "      <td>NaN</td>\n",
              "      <td>Kanpur</td>\n",
              "      <td>B.A</td>\n",
              "    </tr>\n",
              "    <tr>\n",
              "      <th>5</th>\n",
              "      <td>K3</td>\n",
              "      <td>K0</td>\n",
              "      <td>NaN</td>\n",
              "      <td>NaN</td>\n",
              "      <td>Kannuaj</td>\n",
              "      <td>B.hons</td>\n",
              "    </tr>\n",
              "  </tbody>\n",
              "</table>\n",
              "</div>"
            ],
            "text/plain": [
              "  key key1    Name   Age    Address Qualification\n",
              "0  K0   K0     Jai  27.0     Nagpur         Btech\n",
              "1  K1   K1  Princi  24.0        NaN           NaN\n",
              "2  K2   K0  Gaurav  22.0  Allahabad          Bcom\n",
              "3  K3   K1    Anuj  32.0        NaN           NaN\n",
              "4  K1   K0     NaN   NaN     Kanpur           B.A\n",
              "5  K3   K0     NaN   NaN    Kannuaj        B.hons"
            ]
          },
          "metadata": {
            "tags": []
          },
          "execution_count": 42
        }
      ]
    },
    {
      "cell_type": "code",
      "metadata": {
        "id": "Wu0Iy4DIloj7",
        "colab_type": "code",
        "colab": {
          "base_uri": "https://localhost:8080/",
          "height": 105
        },
        "outputId": "7a9e7147-6e60-482f-cfea-264cb30be34e"
      },
      "source": [
        "# getting intersection of keys\n",
        "res3 = pd.merge(df, df1, how='inner', on=['key', 'key1'])\n",
        " \n",
        "res3"
      ],
      "execution_count": 43,
      "outputs": [
        {
          "output_type": "execute_result",
          "data": {
            "text/html": [
              "<div>\n",
              "<style scoped>\n",
              "    .dataframe tbody tr th:only-of-type {\n",
              "        vertical-align: middle;\n",
              "    }\n",
              "\n",
              "    .dataframe tbody tr th {\n",
              "        vertical-align: top;\n",
              "    }\n",
              "\n",
              "    .dataframe thead th {\n",
              "        text-align: right;\n",
              "    }\n",
              "</style>\n",
              "<table border=\"1\" class=\"dataframe\">\n",
              "  <thead>\n",
              "    <tr style=\"text-align: right;\">\n",
              "      <th></th>\n",
              "      <th>key</th>\n",
              "      <th>key1</th>\n",
              "      <th>Name</th>\n",
              "      <th>Age</th>\n",
              "      <th>Address</th>\n",
              "      <th>Qualification</th>\n",
              "    </tr>\n",
              "  </thead>\n",
              "  <tbody>\n",
              "    <tr>\n",
              "      <th>0</th>\n",
              "      <td>K0</td>\n",
              "      <td>K0</td>\n",
              "      <td>Jai</td>\n",
              "      <td>27</td>\n",
              "      <td>Nagpur</td>\n",
              "      <td>Btech</td>\n",
              "    </tr>\n",
              "    <tr>\n",
              "      <th>1</th>\n",
              "      <td>K2</td>\n",
              "      <td>K0</td>\n",
              "      <td>Gaurav</td>\n",
              "      <td>22</td>\n",
              "      <td>Allahabad</td>\n",
              "      <td>Bcom</td>\n",
              "    </tr>\n",
              "  </tbody>\n",
              "</table>\n",
              "</div>"
            ],
            "text/plain": [
              "  key key1    Name  Age    Address Qualification\n",
              "0  K0   K0     Jai   27     Nagpur         Btech\n",
              "1  K2   K0  Gaurav   22  Allahabad          Bcom"
            ]
          },
          "metadata": {
            "tags": []
          },
          "execution_count": 43
        }
      ]
    },
    {
      "cell_type": "markdown",
      "metadata": {
        "id": "yZ9bfIx2l1IG",
        "colab_type": "text"
      },
      "source": [
        "#Joining DataFrame"
      ]
    },
    {
      "cell_type": "code",
      "metadata": {
        "id": "1SvSMNLLl0E9",
        "colab_type": "code",
        "colab": {
          "base_uri": "https://localhost:8080/",
          "height": 196
        },
        "outputId": "11f6aacc-fee8-4bce-a89d-3d2c0d3cd290"
      },
      "source": [
        "# Define a dictionary containing employee data \n",
        "data1 = {'Name':['Jai', 'Princi', 'Gaurav', 'Anuj'], \n",
        "        'Age':[27, 24, 22, 32]} \n",
        "    \n",
        "# Define a dictionary containing employee data \n",
        "data2 = {'Address':['Allahabad', 'Kannuaj', 'Allahabad', 'Kannuaj'], \n",
        "        'Qualification':['MCA', 'Phd', 'Bcom', 'B.hons']} \n",
        "  \n",
        "# Convert the dictionary into DataFrame  \n",
        "df = pd.DataFrame(data1,index=['K0', 'K1', 'K2', 'K3'])\n",
        "  \n",
        "# Convert the dictionary into DataFrame  \n",
        "df1 = pd.DataFrame(data2, index=['K0', 'K2', 'K3', 'K4'])\n",
        " \n",
        " \n",
        "print(df, \"\\n\\n\", df1)  "
      ],
      "execution_count": 44,
      "outputs": [
        {
          "output_type": "stream",
          "text": [
            "      Name  Age\n",
            "K0     Jai   27\n",
            "K1  Princi   24\n",
            "K2  Gaurav   22\n",
            "K3    Anuj   32 \n",
            "\n",
            "       Address Qualification\n",
            "K0  Allahabad           MCA\n",
            "K2    Kannuaj           Phd\n",
            "K3  Allahabad          Bcom\n",
            "K4    Kannuaj        B.hons\n"
          ],
          "name": "stdout"
        }
      ]
    },
    {
      "cell_type": "code",
      "metadata": {
        "id": "mcftR9M_l4CZ",
        "colab_type": "code",
        "colab": {
          "base_uri": "https://localhost:8080/",
          "height": 162
        },
        "outputId": "15ba8a8c-614b-4945-d305-78ac25e6441d"
      },
      "source": [
        "# joining dataframe\n",
        "res = df.join(df1)\n",
        " \n",
        "res"
      ],
      "execution_count": 45,
      "outputs": [
        {
          "output_type": "execute_result",
          "data": {
            "text/html": [
              "<div>\n",
              "<style scoped>\n",
              "    .dataframe tbody tr th:only-of-type {\n",
              "        vertical-align: middle;\n",
              "    }\n",
              "\n",
              "    .dataframe tbody tr th {\n",
              "        vertical-align: top;\n",
              "    }\n",
              "\n",
              "    .dataframe thead th {\n",
              "        text-align: right;\n",
              "    }\n",
              "</style>\n",
              "<table border=\"1\" class=\"dataframe\">\n",
              "  <thead>\n",
              "    <tr style=\"text-align: right;\">\n",
              "      <th></th>\n",
              "      <th>Name</th>\n",
              "      <th>Age</th>\n",
              "      <th>Address</th>\n",
              "      <th>Qualification</th>\n",
              "    </tr>\n",
              "  </thead>\n",
              "  <tbody>\n",
              "    <tr>\n",
              "      <th>K0</th>\n",
              "      <td>Jai</td>\n",
              "      <td>27</td>\n",
              "      <td>Allahabad</td>\n",
              "      <td>MCA</td>\n",
              "    </tr>\n",
              "    <tr>\n",
              "      <th>K1</th>\n",
              "      <td>Princi</td>\n",
              "      <td>24</td>\n",
              "      <td>NaN</td>\n",
              "      <td>NaN</td>\n",
              "    </tr>\n",
              "    <tr>\n",
              "      <th>K2</th>\n",
              "      <td>Gaurav</td>\n",
              "      <td>22</td>\n",
              "      <td>Kannuaj</td>\n",
              "      <td>Phd</td>\n",
              "    </tr>\n",
              "    <tr>\n",
              "      <th>K3</th>\n",
              "      <td>Anuj</td>\n",
              "      <td>32</td>\n",
              "      <td>Allahabad</td>\n",
              "      <td>Bcom</td>\n",
              "    </tr>\n",
              "  </tbody>\n",
              "</table>\n",
              "</div>"
            ],
            "text/plain": [
              "      Name  Age    Address Qualification\n",
              "K0     Jai   27  Allahabad           MCA\n",
              "K1  Princi   24        NaN           NaN\n",
              "K2  Gaurav   22    Kannuaj           Phd\n",
              "K3    Anuj   32  Allahabad          Bcom"
            ]
          },
          "metadata": {
            "tags": []
          },
          "execution_count": 45
        }
      ]
    },
    {
      "cell_type": "code",
      "metadata": {
        "id": "hsjbGiznmWNA",
        "colab_type": "code",
        "colab": {
          "base_uri": "https://localhost:8080/",
          "height": 191
        },
        "outputId": "68c731ce-6df2-476f-a1e7-6216b856e3a8"
      },
      "source": [
        "# getting union\n",
        "res1 = df.join(df1, how='outer')\n",
        " \n",
        "res1"
      ],
      "execution_count": 46,
      "outputs": [
        {
          "output_type": "execute_result",
          "data": {
            "text/html": [
              "<div>\n",
              "<style scoped>\n",
              "    .dataframe tbody tr th:only-of-type {\n",
              "        vertical-align: middle;\n",
              "    }\n",
              "\n",
              "    .dataframe tbody tr th {\n",
              "        vertical-align: top;\n",
              "    }\n",
              "\n",
              "    .dataframe thead th {\n",
              "        text-align: right;\n",
              "    }\n",
              "</style>\n",
              "<table border=\"1\" class=\"dataframe\">\n",
              "  <thead>\n",
              "    <tr style=\"text-align: right;\">\n",
              "      <th></th>\n",
              "      <th>Name</th>\n",
              "      <th>Age</th>\n",
              "      <th>Address</th>\n",
              "      <th>Qualification</th>\n",
              "    </tr>\n",
              "  </thead>\n",
              "  <tbody>\n",
              "    <tr>\n",
              "      <th>K0</th>\n",
              "      <td>Jai</td>\n",
              "      <td>27.0</td>\n",
              "      <td>Allahabad</td>\n",
              "      <td>MCA</td>\n",
              "    </tr>\n",
              "    <tr>\n",
              "      <th>K1</th>\n",
              "      <td>Princi</td>\n",
              "      <td>24.0</td>\n",
              "      <td>NaN</td>\n",
              "      <td>NaN</td>\n",
              "    </tr>\n",
              "    <tr>\n",
              "      <th>K2</th>\n",
              "      <td>Gaurav</td>\n",
              "      <td>22.0</td>\n",
              "      <td>Kannuaj</td>\n",
              "      <td>Phd</td>\n",
              "    </tr>\n",
              "    <tr>\n",
              "      <th>K3</th>\n",
              "      <td>Anuj</td>\n",
              "      <td>32.0</td>\n",
              "      <td>Allahabad</td>\n",
              "      <td>Bcom</td>\n",
              "    </tr>\n",
              "    <tr>\n",
              "      <th>K4</th>\n",
              "      <td>NaN</td>\n",
              "      <td>NaN</td>\n",
              "      <td>Kannuaj</td>\n",
              "      <td>B.hons</td>\n",
              "    </tr>\n",
              "  </tbody>\n",
              "</table>\n",
              "</div>"
            ],
            "text/plain": [
              "      Name   Age    Address Qualification\n",
              "K0     Jai  27.0  Allahabad           MCA\n",
              "K1  Princi  24.0        NaN           NaN\n",
              "K2  Gaurav  22.0    Kannuaj           Phd\n",
              "K3    Anuj  32.0  Allahabad          Bcom\n",
              "K4     NaN   NaN    Kannuaj        B.hons"
            ]
          },
          "metadata": {
            "tags": []
          },
          "execution_count": 46
        }
      ]
    },
    {
      "cell_type": "markdown",
      "metadata": {
        "id": "nfstsA5nmiAZ",
        "colab_type": "text"
      },
      "source": [
        "#Joining dataframe using on in an argument "
      ]
    },
    {
      "cell_type": "code",
      "metadata": {
        "id": "E2U5Gu_-mbv5",
        "colab_type": "code",
        "colab": {
          "base_uri": "https://localhost:8080/",
          "height": 196
        },
        "outputId": "6159657f-75eb-413d-d482-19050bc4473c"
      },
      "source": [
        "# Define a dictionary containing employee data \n",
        "data1 = {'Name':['Jai', 'Princi', 'Gaurav', 'Anuj'], \n",
        "        'Age':[27, 24, 22, 32],\n",
        "        'Key':['K0', 'K1', 'K2', 'K3']} \n",
        "    \n",
        "# Define a dictionary containing employee data \n",
        "data2 = {'Address':['Allahabad', 'Kannuaj', 'Allahabad', 'Kannuaj'], \n",
        "        'Qualification':['MCA', 'Phd', 'Bcom', 'B.hons']} \n",
        "  \n",
        "# Convert the dictionary into DataFrame  \n",
        "df = pd.DataFrame(data1)\n",
        "  \n",
        "# Convert the dictionary into DataFrame  \n",
        "df1 = pd.DataFrame(data2, index=['K0', 'K2', 'K3', 'K4'])\n",
        " \n",
        " \n",
        "print(df, \"\\n\\n\", df1) "
      ],
      "execution_count": 47,
      "outputs": [
        {
          "output_type": "stream",
          "text": [
            "     Name  Age Key\n",
            "0     Jai   27  K0\n",
            "1  Princi   24  K1\n",
            "2  Gaurav   22  K2\n",
            "3    Anuj   32  K3 \n",
            "\n",
            "       Address Qualification\n",
            "K0  Allahabad           MCA\n",
            "K2    Kannuaj           Phd\n",
            "K3  Allahabad          Bcom\n",
            "K4    Kannuaj        B.hons\n"
          ],
          "name": "stdout"
        }
      ]
    },
    {
      "cell_type": "code",
      "metadata": {
        "id": "Ok76Shdcmk9-",
        "colab_type": "code",
        "colab": {
          "base_uri": "https://localhost:8080/",
          "height": 162
        },
        "outputId": "7fba49aa-c9b6-4b2e-a31a-d7d9e4fc59d5"
      },
      "source": [
        "# using on argument in join\n",
        "res2 = df.join(df1, on='Key')\n",
        " \n",
        "res2"
      ],
      "execution_count": 48,
      "outputs": [
        {
          "output_type": "execute_result",
          "data": {
            "text/html": [
              "<div>\n",
              "<style scoped>\n",
              "    .dataframe tbody tr th:only-of-type {\n",
              "        vertical-align: middle;\n",
              "    }\n",
              "\n",
              "    .dataframe tbody tr th {\n",
              "        vertical-align: top;\n",
              "    }\n",
              "\n",
              "    .dataframe thead th {\n",
              "        text-align: right;\n",
              "    }\n",
              "</style>\n",
              "<table border=\"1\" class=\"dataframe\">\n",
              "  <thead>\n",
              "    <tr style=\"text-align: right;\">\n",
              "      <th></th>\n",
              "      <th>Name</th>\n",
              "      <th>Age</th>\n",
              "      <th>Key</th>\n",
              "      <th>Address</th>\n",
              "      <th>Qualification</th>\n",
              "    </tr>\n",
              "  </thead>\n",
              "  <tbody>\n",
              "    <tr>\n",
              "      <th>0</th>\n",
              "      <td>Jai</td>\n",
              "      <td>27</td>\n",
              "      <td>K0</td>\n",
              "      <td>Allahabad</td>\n",
              "      <td>MCA</td>\n",
              "    </tr>\n",
              "    <tr>\n",
              "      <th>1</th>\n",
              "      <td>Princi</td>\n",
              "      <td>24</td>\n",
              "      <td>K1</td>\n",
              "      <td>NaN</td>\n",
              "      <td>NaN</td>\n",
              "    </tr>\n",
              "    <tr>\n",
              "      <th>2</th>\n",
              "      <td>Gaurav</td>\n",
              "      <td>22</td>\n",
              "      <td>K2</td>\n",
              "      <td>Kannuaj</td>\n",
              "      <td>Phd</td>\n",
              "    </tr>\n",
              "    <tr>\n",
              "      <th>3</th>\n",
              "      <td>Anuj</td>\n",
              "      <td>32</td>\n",
              "      <td>K3</td>\n",
              "      <td>Allahabad</td>\n",
              "      <td>Bcom</td>\n",
              "    </tr>\n",
              "  </tbody>\n",
              "</table>\n",
              "</div>"
            ],
            "text/plain": [
              "     Name  Age Key    Address Qualification\n",
              "0     Jai   27  K0  Allahabad           MCA\n",
              "1  Princi   24  K1        NaN           NaN\n",
              "2  Gaurav   22  K2    Kannuaj           Phd\n",
              "3    Anuj   32  K3  Allahabad          Bcom"
            ]
          },
          "metadata": {
            "tags": []
          },
          "execution_count": 48
        }
      ]
    },
    {
      "cell_type": "markdown",
      "metadata": {
        "id": "RNdunlt1m2pY",
        "colab_type": "text"
      },
      "source": [
        "#Joining singly-indexed DataFrame with multi-indexed DataFrame :"
      ]
    },
    {
      "cell_type": "code",
      "metadata": {
        "id": "fxjD9XjFmt5C",
        "colab_type": "code",
        "colab": {
          "base_uri": "https://localhost:8080/",
          "height": 212
        },
        "outputId": "c0416f0c-0b4b-4dc3-fbfd-8dbfac7d60fb"
      },
      "source": [
        "# Define a dictionary containing employee data \n",
        "data1 = {'Name':['Jai', 'Princi', 'Gaurav'], \n",
        "        'Age':[27, 24, 22]} \n",
        "    \n",
        "# Define a dictionary containing employee data \n",
        "data2 = {'Address':['Allahabad', 'Kannuaj', 'Allahabad', 'Kanpur'], \n",
        "        'Qualification':['MCA', 'Phd', 'Bcom', 'B.hons']} \n",
        "  \n",
        "# Convert the dictionary into DataFrame  \n",
        "df = pd.DataFrame(data1, index=pd.Index(['K0', 'K1', 'K2'], name='key'))\n",
        " \n",
        "index = pd.MultiIndex.from_tuples([('K0', 'Y0'), ('K1', 'Y1'),\n",
        "                                   ('K2', 'Y2'), ('K2', 'Y3')],\n",
        "                                   names=['key', 'Y'])\n",
        "  \n",
        "# Convert the dictionary into DataFrame  \n",
        "df1 = pd.DataFrame(data2, index= index)\n",
        " \n",
        " \n",
        "print(df, \"\\n\\n\", df1)"
      ],
      "execution_count": 49,
      "outputs": [
        {
          "output_type": "stream",
          "text": [
            "       Name  Age\n",
            "key             \n",
            "K0      Jai   27\n",
            "K1   Princi   24\n",
            "K2   Gaurav   22 \n",
            "\n",
            "           Address Qualification\n",
            "key Y                          \n",
            "K0  Y0  Allahabad           MCA\n",
            "K1  Y1    Kannuaj           Phd\n",
            "K2  Y2  Allahabad          Bcom\n",
            "    Y3     Kanpur        B.hons\n"
          ],
          "name": "stdout"
        }
      ]
    },
    {
      "cell_type": "code",
      "metadata": {
        "id": "ZSG9rGJrm7tL",
        "colab_type": "code",
        "colab": {
          "base_uri": "https://localhost:8080/",
          "height": 191
        },
        "outputId": "58e05f6d-4ff6-4397-efc9-694db8e5cbfa"
      },
      "source": [
        "# joining singly indexed with\n",
        "# multi indexed\n",
        "result = df.join(df1, how='inner')\n",
        " \n",
        "result"
      ],
      "execution_count": 50,
      "outputs": [
        {
          "output_type": "execute_result",
          "data": {
            "text/html": [
              "<div>\n",
              "<style scoped>\n",
              "    .dataframe tbody tr th:only-of-type {\n",
              "        vertical-align: middle;\n",
              "    }\n",
              "\n",
              "    .dataframe tbody tr th {\n",
              "        vertical-align: top;\n",
              "    }\n",
              "\n",
              "    .dataframe thead th {\n",
              "        text-align: right;\n",
              "    }\n",
              "</style>\n",
              "<table border=\"1\" class=\"dataframe\">\n",
              "  <thead>\n",
              "    <tr style=\"text-align: right;\">\n",
              "      <th></th>\n",
              "      <th></th>\n",
              "      <th>Name</th>\n",
              "      <th>Age</th>\n",
              "      <th>Address</th>\n",
              "      <th>Qualification</th>\n",
              "    </tr>\n",
              "    <tr>\n",
              "      <th>key</th>\n",
              "      <th>Y</th>\n",
              "      <th></th>\n",
              "      <th></th>\n",
              "      <th></th>\n",
              "      <th></th>\n",
              "    </tr>\n",
              "  </thead>\n",
              "  <tbody>\n",
              "    <tr>\n",
              "      <th>K0</th>\n",
              "      <th>Y0</th>\n",
              "      <td>Jai</td>\n",
              "      <td>27</td>\n",
              "      <td>Allahabad</td>\n",
              "      <td>MCA</td>\n",
              "    </tr>\n",
              "    <tr>\n",
              "      <th>K1</th>\n",
              "      <th>Y1</th>\n",
              "      <td>Princi</td>\n",
              "      <td>24</td>\n",
              "      <td>Kannuaj</td>\n",
              "      <td>Phd</td>\n",
              "    </tr>\n",
              "    <tr>\n",
              "      <th rowspan=\"2\" valign=\"top\">K2</th>\n",
              "      <th>Y2</th>\n",
              "      <td>Gaurav</td>\n",
              "      <td>22</td>\n",
              "      <td>Allahabad</td>\n",
              "      <td>Bcom</td>\n",
              "    </tr>\n",
              "    <tr>\n",
              "      <th>Y3</th>\n",
              "      <td>Gaurav</td>\n",
              "      <td>22</td>\n",
              "      <td>Kanpur</td>\n",
              "      <td>B.hons</td>\n",
              "    </tr>\n",
              "  </tbody>\n",
              "</table>\n",
              "</div>"
            ],
            "text/plain": [
              "          Name  Age    Address Qualification\n",
              "key Y                                       \n",
              "K0  Y0     Jai   27  Allahabad           MCA\n",
              "K1  Y1  Princi   24    Kannuaj           Phd\n",
              "K2  Y2  Gaurav   22  Allahabad          Bcom\n",
              "    Y3  Gaurav   22     Kanpur        B.hons"
            ]
          },
          "metadata": {
            "tags": []
          },
          "execution_count": 50
        }
      ]
    },
    {
      "cell_type": "code",
      "metadata": {
        "id": "xmArbmikm-uG",
        "colab_type": "code",
        "colab": {}
      },
      "source": [
        ""
      ],
      "execution_count": null,
      "outputs": []
    }
  ]
}