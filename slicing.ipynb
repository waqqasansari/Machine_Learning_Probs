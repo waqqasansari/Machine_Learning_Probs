{
  "nbformat": 4,
  "nbformat_minor": 0,
  "metadata": {
    "colab": {
      "name": "slicing.ipynb",
      "provenance": [],
      "collapsed_sections": [],
      "authorship_tag": "ABX9TyNB/IREQBnCbXP+vzhGaXf/",
      "include_colab_link": true
    },
    "kernelspec": {
      "name": "python3",
      "display_name": "Python 3"
    }
  },
  "cells": [
    {
      "cell_type": "markdown",
      "metadata": {
        "id": "view-in-github",
        "colab_type": "text"
      },
      "source": [
        "<a href=\"https://colab.research.google.com/github/waqqasansari/Machine_Learning_Probs/blob/master/slicing.ipynb\" target=\"_parent\"><img src=\"https://colab.research.google.com/assets/colab-badge.svg\" alt=\"Open In Colab\"/></a>"
      ]
    },
    {
      "cell_type": "markdown",
      "metadata": {
        "id": "hwC_5WS8T8U3",
        "colab_type": "text"
      },
      "source": [
        "Dataframe.[ ] ; This function also known as indexing operator\n",
        "\n",
        "Dataframe.loc[ ] : This function is used for labels.\n",
        "\n",
        "Dataframe.iloc[ ] : This function is used for positions or integer \n",
        "based"
      ]
    },
    {
      "cell_type": "code",
      "metadata": {
        "id": "pE_QQfh8Tn7N",
        "colab_type": "code",
        "colab": {}
      },
      "source": [
        "import pandas as pd\n",
        "import numpy as np"
      ],
      "execution_count": 0,
      "outputs": []
    },
    {
      "cell_type": "code",
      "metadata": {
        "id": "IRZX6EDWWuhs",
        "colab_type": "code",
        "colab": {
          "base_uri": "https://localhost:8080/",
          "height": 257
        },
        "outputId": "f2b45590-2d27-4b5c-b7bc-dfc74b929513"
      },
      "source": [
        "df = pd.read_csv('nba-2.csv', index_col= \"Name\")\n",
        "df.head(6)"
      ],
      "execution_count": 13,
      "outputs": [
        {
          "output_type": "execute_result",
          "data": {
            "text/html": [
              "<div>\n",
              "<style scoped>\n",
              "    .dataframe tbody tr th:only-of-type {\n",
              "        vertical-align: middle;\n",
              "    }\n",
              "\n",
              "    .dataframe tbody tr th {\n",
              "        vertical-align: top;\n",
              "    }\n",
              "\n",
              "    .dataframe thead th {\n",
              "        text-align: right;\n",
              "    }\n",
              "</style>\n",
              "<table border=\"1\" class=\"dataframe\">\n",
              "  <thead>\n",
              "    <tr style=\"text-align: right;\">\n",
              "      <th></th>\n",
              "      <th>Team</th>\n",
              "      <th>Number</th>\n",
              "      <th>Position</th>\n",
              "      <th>Age</th>\n",
              "      <th>Height</th>\n",
              "      <th>Weight</th>\n",
              "      <th>College</th>\n",
              "      <th>Salary</th>\n",
              "    </tr>\n",
              "    <tr>\n",
              "      <th>Name</th>\n",
              "      <th></th>\n",
              "      <th></th>\n",
              "      <th></th>\n",
              "      <th></th>\n",
              "      <th></th>\n",
              "      <th></th>\n",
              "      <th></th>\n",
              "      <th></th>\n",
              "    </tr>\n",
              "  </thead>\n",
              "  <tbody>\n",
              "    <tr>\n",
              "      <th>Avery Bradley</th>\n",
              "      <td>Boston Celtics</td>\n",
              "      <td>0.0</td>\n",
              "      <td>PG</td>\n",
              "      <td>25.0</td>\n",
              "      <td>6-2</td>\n",
              "      <td>180.0</td>\n",
              "      <td>Texas</td>\n",
              "      <td>7730337.0</td>\n",
              "    </tr>\n",
              "    <tr>\n",
              "      <th>Jae Crowder</th>\n",
              "      <td>Boston Celtics</td>\n",
              "      <td>99.0</td>\n",
              "      <td>SF</td>\n",
              "      <td>25.0</td>\n",
              "      <td>6-6</td>\n",
              "      <td>235.0</td>\n",
              "      <td>Marquette</td>\n",
              "      <td>6796117.0</td>\n",
              "    </tr>\n",
              "    <tr>\n",
              "      <th>John Holland</th>\n",
              "      <td>Boston Celtics</td>\n",
              "      <td>30.0</td>\n",
              "      <td>SG</td>\n",
              "      <td>27.0</td>\n",
              "      <td>6-5</td>\n",
              "      <td>205.0</td>\n",
              "      <td>Boston University</td>\n",
              "      <td>NaN</td>\n",
              "    </tr>\n",
              "    <tr>\n",
              "      <th>R.J. Hunter</th>\n",
              "      <td>Boston Celtics</td>\n",
              "      <td>28.0</td>\n",
              "      <td>SG</td>\n",
              "      <td>22.0</td>\n",
              "      <td>6-5</td>\n",
              "      <td>185.0</td>\n",
              "      <td>Georgia State</td>\n",
              "      <td>1148640.0</td>\n",
              "    </tr>\n",
              "    <tr>\n",
              "      <th>Jonas Jerebko</th>\n",
              "      <td>Boston Celtics</td>\n",
              "      <td>8.0</td>\n",
              "      <td>PF</td>\n",
              "      <td>29.0</td>\n",
              "      <td>6-10</td>\n",
              "      <td>231.0</td>\n",
              "      <td>NaN</td>\n",
              "      <td>5000000.0</td>\n",
              "    </tr>\n",
              "    <tr>\n",
              "      <th>Amir Johnson</th>\n",
              "      <td>Boston Celtics</td>\n",
              "      <td>90.0</td>\n",
              "      <td>PF</td>\n",
              "      <td>29.0</td>\n",
              "      <td>6-9</td>\n",
              "      <td>240.0</td>\n",
              "      <td>NaN</td>\n",
              "      <td>12000000.0</td>\n",
              "    </tr>\n",
              "  </tbody>\n",
              "</table>\n",
              "</div>"
            ],
            "text/plain": [
              "                         Team  Number  ...            College      Salary\n",
              "Name                                   ...                               \n",
              "Avery Bradley  Boston Celtics     0.0  ...              Texas   7730337.0\n",
              "Jae Crowder    Boston Celtics    99.0  ...          Marquette   6796117.0\n",
              "John Holland   Boston Celtics    30.0  ...  Boston University         NaN\n",
              "R.J. Hunter    Boston Celtics    28.0  ...      Georgia State   1148640.0\n",
              "Jonas Jerebko  Boston Celtics     8.0  ...                NaN   5000000.0\n",
              "Amir Johnson   Boston Celtics    90.0  ...                NaN  12000000.0\n",
              "\n",
              "[6 rows x 8 columns]"
            ]
          },
          "metadata": {
            "tags": []
          },
          "execution_count": 13
        }
      ]
    },
    {
      "cell_type": "code",
      "metadata": {
        "id": "eJyXfJAmUQ53",
        "colab_type": "code",
        "colab": {
          "base_uri": "https://localhost:8080/",
          "height": 247
        },
        "outputId": "1511423c-7168-49ca-c1be-e451d95cf636"
      },
      "source": [
        "# retrieving columns by indexing operator \n",
        "first = df[\"Age\"]\n",
        "\n",
        "first"
      ],
      "execution_count": 3,
      "outputs": [
        {
          "output_type": "execute_result",
          "data": {
            "text/plain": [
              "Name\n",
              "Avery Bradley    25.0\n",
              "Jae Crowder      25.0\n",
              "John Holland     27.0\n",
              "R.J. Hunter      22.0\n",
              "Jonas Jerebko    29.0\n",
              "                 ... \n",
              "Shelvin Mack     26.0\n",
              "Raul Neto        24.0\n",
              "Tibor Pleiss     26.0\n",
              "Jeff Withey      26.0\n",
              "NaN               NaN\n",
              "Name: Age, Length: 458, dtype: float64"
            ]
          },
          "metadata": {
            "tags": []
          },
          "execution_count": 3
        }
      ]
    },
    {
      "cell_type": "code",
      "metadata": {
        "id": "fH1erMEkUvMK",
        "colab_type": "code",
        "colab": {
          "base_uri": "https://localhost:8080/",
          "height": 436
        },
        "outputId": "298645e6-6895-4253-85a7-f7ad5e7b1ca5"
      },
      "source": [
        "df = pd.read_csv('nba-2.csv', index_col= \"Name\")\n",
        "\n",
        "# retrieving columns by indexing operator \n",
        "first = df[[\"Age\",\"College\",\"Salary\"]]\n",
        "\n",
        "first"
      ],
      "execution_count": 4,
      "outputs": [
        {
          "output_type": "execute_result",
          "data": {
            "text/html": [
              "<div>\n",
              "<style scoped>\n",
              "    .dataframe tbody tr th:only-of-type {\n",
              "        vertical-align: middle;\n",
              "    }\n",
              "\n",
              "    .dataframe tbody tr th {\n",
              "        vertical-align: top;\n",
              "    }\n",
              "\n",
              "    .dataframe thead th {\n",
              "        text-align: right;\n",
              "    }\n",
              "</style>\n",
              "<table border=\"1\" class=\"dataframe\">\n",
              "  <thead>\n",
              "    <tr style=\"text-align: right;\">\n",
              "      <th></th>\n",
              "      <th>Age</th>\n",
              "      <th>College</th>\n",
              "      <th>Salary</th>\n",
              "    </tr>\n",
              "    <tr>\n",
              "      <th>Name</th>\n",
              "      <th></th>\n",
              "      <th></th>\n",
              "      <th></th>\n",
              "    </tr>\n",
              "  </thead>\n",
              "  <tbody>\n",
              "    <tr>\n",
              "      <th>Avery Bradley</th>\n",
              "      <td>25.0</td>\n",
              "      <td>Texas</td>\n",
              "      <td>7730337.0</td>\n",
              "    </tr>\n",
              "    <tr>\n",
              "      <th>Jae Crowder</th>\n",
              "      <td>25.0</td>\n",
              "      <td>Marquette</td>\n",
              "      <td>6796117.0</td>\n",
              "    </tr>\n",
              "    <tr>\n",
              "      <th>John Holland</th>\n",
              "      <td>27.0</td>\n",
              "      <td>Boston University</td>\n",
              "      <td>NaN</td>\n",
              "    </tr>\n",
              "    <tr>\n",
              "      <th>R.J. Hunter</th>\n",
              "      <td>22.0</td>\n",
              "      <td>Georgia State</td>\n",
              "      <td>1148640.0</td>\n",
              "    </tr>\n",
              "    <tr>\n",
              "      <th>Jonas Jerebko</th>\n",
              "      <td>29.0</td>\n",
              "      <td>NaN</td>\n",
              "      <td>5000000.0</td>\n",
              "    </tr>\n",
              "    <tr>\n",
              "      <th>...</th>\n",
              "      <td>...</td>\n",
              "      <td>...</td>\n",
              "      <td>...</td>\n",
              "    </tr>\n",
              "    <tr>\n",
              "      <th>Shelvin Mack</th>\n",
              "      <td>26.0</td>\n",
              "      <td>Butler</td>\n",
              "      <td>2433333.0</td>\n",
              "    </tr>\n",
              "    <tr>\n",
              "      <th>Raul Neto</th>\n",
              "      <td>24.0</td>\n",
              "      <td>NaN</td>\n",
              "      <td>900000.0</td>\n",
              "    </tr>\n",
              "    <tr>\n",
              "      <th>Tibor Pleiss</th>\n",
              "      <td>26.0</td>\n",
              "      <td>NaN</td>\n",
              "      <td>2900000.0</td>\n",
              "    </tr>\n",
              "    <tr>\n",
              "      <th>Jeff Withey</th>\n",
              "      <td>26.0</td>\n",
              "      <td>Kansas</td>\n",
              "      <td>947276.0</td>\n",
              "    </tr>\n",
              "    <tr>\n",
              "      <th>NaN</th>\n",
              "      <td>NaN</td>\n",
              "      <td>NaN</td>\n",
              "      <td>NaN</td>\n",
              "    </tr>\n",
              "  </tbody>\n",
              "</table>\n",
              "<p>458 rows × 3 columns</p>\n",
              "</div>"
            ],
            "text/plain": [
              "                Age            College     Salary\n",
              "Name                                             \n",
              "Avery Bradley  25.0              Texas  7730337.0\n",
              "Jae Crowder    25.0          Marquette  6796117.0\n",
              "John Holland   27.0  Boston University        NaN\n",
              "R.J. Hunter    22.0      Georgia State  1148640.0\n",
              "Jonas Jerebko  29.0                NaN  5000000.0\n",
              "...             ...                ...        ...\n",
              "Shelvin Mack   26.0             Butler  2433333.0\n",
              "Raul Neto      24.0                NaN   900000.0\n",
              "Tibor Pleiss   26.0                NaN  2900000.0\n",
              "Jeff Withey    26.0             Kansas   947276.0\n",
              "NaN             NaN                NaN        NaN\n",
              "\n",
              "[458 rows x 3 columns]"
            ]
          },
          "metadata": {
            "tags": []
          },
          "execution_count": 4
        }
      ]
    },
    {
      "cell_type": "code",
      "metadata": {
        "id": "SHzjbccGVNf0",
        "colab_type": "code",
        "colab": {
          "base_uri": "https://localhost:8080/",
          "height": 372
        },
        "outputId": "c2d3d005-5c2c-47ef-aab2-fb842bfc1835"
      },
      "source": [
        "#indexing dataframe using .loc[]\n",
        "# retrieving row by loc method \n",
        "first = df.loc[\"Avery Bradley\"]\n",
        "second = df.loc[\"R.J. Hunter\"]\n",
        "\n",
        "print(first, \"\\n\\n\\n\", second)\n",
        "\n"
      ],
      "execution_count": 7,
      "outputs": [
        {
          "output_type": "stream",
          "text": [
            "Team        Boston Celtics\n",
            "Number                   0\n",
            "Position                PG\n",
            "Age                     25\n",
            "Height                 6-2\n",
            "Weight                 180\n",
            "College              Texas\n",
            "Salary         7.73034e+06\n",
            "Name: Avery Bradley, dtype: object \n",
            "\n",
            "\n",
            " Team        Boston Celtics\n",
            "Number                  28\n",
            "Position                SG\n",
            "Age                     22\n",
            "Height                 6-5\n",
            "Weight                 185\n",
            "College      Georgia State\n",
            "Salary         1.14864e+06\n",
            "Name: R.J. Hunter, dtype: object\n"
          ],
          "name": "stdout"
        }
      ]
    },
    {
      "cell_type": "code",
      "metadata": {
        "id": "hSzJF9ZaV9Br",
        "colab_type": "code",
        "colab": {
          "base_uri": "https://localhost:8080/",
          "height": 123
        },
        "outputId": "6cfdb6f2-8b6d-49c7-fee5-f00e117bfa73"
      },
      "source": [
        "# retrieving multiple rows by loc method \n",
        "first = df.loc[[\"Avery Bradley\", \"R.J. Hunter\"]] \n",
        "print(first) "
      ],
      "execution_count": 9,
      "outputs": [
        {
          "output_type": "stream",
          "text": [
            "                         Team  Number  ...        College     Salary\n",
            "Name                                   ...                          \n",
            "Avery Bradley  Boston Celtics     0.0  ...          Texas  7730337.0\n",
            "R.J. Hunter    Boston Celtics    28.0  ...  Georgia State  1148640.0\n",
            "\n",
            "[2 rows x 8 columns]\n"
          ],
          "name": "stdout"
        }
      ]
    },
    {
      "cell_type": "code",
      "metadata": {
        "id": "XtTDfQzPWiZV",
        "colab_type": "code",
        "colab": {
          "base_uri": "https://localhost:8080/",
          "height": 87
        },
        "outputId": "56b587f2-b5bd-4c1b-85e8-b62b5fe198db"
      },
      "source": [
        "# retrieving two rows and three columns by loc method \n",
        "first = df.loc[[\"Avery Bradley\", \"R.J. Hunter\"], \n",
        "                   [\"Team\", \"Number\", \"Position\"]] \n",
        "print(first) "
      ],
      "execution_count": 11,
      "outputs": [
        {
          "output_type": "stream",
          "text": [
            "                         Team  Number Position\n",
            "Name                                          \n",
            "Avery Bradley  Boston Celtics     0.0       PG\n",
            "R.J. Hunter    Boston Celtics    28.0       SG\n"
          ],
          "name": "stdout"
        }
      ]
    },
    {
      "cell_type": "code",
      "metadata": {
        "id": "PRZFHL3KW2pq",
        "colab_type": "code",
        "colab": {
          "base_uri": "https://localhost:8080/",
          "height": 283
        },
        "outputId": "7a97d93b-c116-436c-a90d-100f1c207415"
      },
      "source": [
        "# retrieving all rows and 3 columns by loc method \n",
        "first = df.loc[:, [\"Team\", \"Number\", \"Position\"]] \n",
        "print(first)"
      ],
      "execution_count": 14,
      "outputs": [
        {
          "output_type": "stream",
          "text": [
            "                         Team  Number Position\n",
            "Name                                          \n",
            "Avery Bradley  Boston Celtics     0.0       PG\n",
            "Jae Crowder    Boston Celtics    99.0       SF\n",
            "John Holland   Boston Celtics    30.0       SG\n",
            "R.J. Hunter    Boston Celtics    28.0       SG\n",
            "Jonas Jerebko  Boston Celtics     8.0       PF\n",
            "...                       ...     ...      ...\n",
            "Shelvin Mack        Utah Jazz     8.0       PG\n",
            "Raul Neto           Utah Jazz    25.0       PG\n",
            "Tibor Pleiss        Utah Jazz    21.0        C\n",
            "Jeff Withey         Utah Jazz    24.0        C\n",
            "NaN                       NaN     NaN      NaN\n",
            "\n",
            "[458 rows x 3 columns]\n"
          ],
          "name": "stdout"
        }
      ]
    },
    {
      "cell_type": "code",
      "metadata": {
        "id": "VE3p6-RbW-a4",
        "colab_type": "code",
        "colab": {
          "base_uri": "https://localhost:8080/",
          "height": 176
        },
        "outputId": "645b29ad-a521-4879-eb1c-052c7b2125d4"
      },
      "source": [
        "# retrieving rows by iloc method  \n",
        "row2 = df.iloc[3] \n",
        "print(row2) "
      ],
      "execution_count": 16,
      "outputs": [
        {
          "output_type": "stream",
          "text": [
            "Team        Boston Celtics\n",
            "Number                  28\n",
            "Position                SG\n",
            "Age                     22\n",
            "Height                 6-5\n",
            "Weight                 185\n",
            "College      Georgia State\n",
            "Salary         1.14864e+06\n",
            "Name: R.J. Hunter, dtype: object\n"
          ],
          "name": "stdout"
        }
      ]
    },
    {
      "cell_type": "code",
      "metadata": {
        "id": "mD7-rpenXI9-",
        "colab_type": "code",
        "colab": {
          "base_uri": "https://localhost:8080/",
          "height": 167
        },
        "outputId": "3b8e51e1-647c-4fa8-a3c8-d0b768add839"
      },
      "source": [
        "# retrieving multiple rows by iloc method  \n",
        "row2 = df.iloc [[3, 5, 7]] \n",
        "row2 "
      ],
      "execution_count": 18,
      "outputs": [
        {
          "output_type": "execute_result",
          "data": {
            "text/html": [
              "<div>\n",
              "<style scoped>\n",
              "    .dataframe tbody tr th:only-of-type {\n",
              "        vertical-align: middle;\n",
              "    }\n",
              "\n",
              "    .dataframe tbody tr th {\n",
              "        vertical-align: top;\n",
              "    }\n",
              "\n",
              "    .dataframe thead th {\n",
              "        text-align: right;\n",
              "    }\n",
              "</style>\n",
              "<table border=\"1\" class=\"dataframe\">\n",
              "  <thead>\n",
              "    <tr style=\"text-align: right;\">\n",
              "      <th></th>\n",
              "      <th>Team</th>\n",
              "      <th>Number</th>\n",
              "      <th>Position</th>\n",
              "      <th>Age</th>\n",
              "      <th>Height</th>\n",
              "      <th>Weight</th>\n",
              "      <th>College</th>\n",
              "      <th>Salary</th>\n",
              "    </tr>\n",
              "    <tr>\n",
              "      <th>Name</th>\n",
              "      <th></th>\n",
              "      <th></th>\n",
              "      <th></th>\n",
              "      <th></th>\n",
              "      <th></th>\n",
              "      <th></th>\n",
              "      <th></th>\n",
              "      <th></th>\n",
              "    </tr>\n",
              "  </thead>\n",
              "  <tbody>\n",
              "    <tr>\n",
              "      <th>R.J. Hunter</th>\n",
              "      <td>Boston Celtics</td>\n",
              "      <td>28.0</td>\n",
              "      <td>SG</td>\n",
              "      <td>22.0</td>\n",
              "      <td>6-5</td>\n",
              "      <td>185.0</td>\n",
              "      <td>Georgia State</td>\n",
              "      <td>1148640.0</td>\n",
              "    </tr>\n",
              "    <tr>\n",
              "      <th>Amir Johnson</th>\n",
              "      <td>Boston Celtics</td>\n",
              "      <td>90.0</td>\n",
              "      <td>PF</td>\n",
              "      <td>29.0</td>\n",
              "      <td>6-9</td>\n",
              "      <td>240.0</td>\n",
              "      <td>NaN</td>\n",
              "      <td>12000000.0</td>\n",
              "    </tr>\n",
              "    <tr>\n",
              "      <th>Kelly Olynyk</th>\n",
              "      <td>Boston Celtics</td>\n",
              "      <td>41.0</td>\n",
              "      <td>C</td>\n",
              "      <td>25.0</td>\n",
              "      <td>7-0</td>\n",
              "      <td>238.0</td>\n",
              "      <td>Gonzaga</td>\n",
              "      <td>2165160.0</td>\n",
              "    </tr>\n",
              "  </tbody>\n",
              "</table>\n",
              "</div>"
            ],
            "text/plain": [
              "                        Team  Number  ...        College      Salary\n",
              "Name                                  ...                           \n",
              "R.J. Hunter   Boston Celtics    28.0  ...  Georgia State   1148640.0\n",
              "Amir Johnson  Boston Celtics    90.0  ...            NaN  12000000.0\n",
              "Kelly Olynyk  Boston Celtics    41.0  ...        Gonzaga   2165160.0\n",
              "\n",
              "[3 rows x 8 columns]"
            ]
          },
          "metadata": {
            "tags": []
          },
          "execution_count": 18
        }
      ]
    },
    {
      "cell_type": "code",
      "metadata": {
        "id": "Uk-kaM4YXdZe",
        "colab_type": "code",
        "colab": {
          "base_uri": "https://localhost:8080/",
          "height": 87
        },
        "outputId": "d9f1f113-79a3-4000-ca65-e25952404062"
      },
      "source": [
        "# retrieving two rows and two columns by iloc method  \n",
        "row2 = df.iloc[[3, 4], [1, 2]] \n",
        "print(row2) "
      ],
      "execution_count": 19,
      "outputs": [
        {
          "output_type": "stream",
          "text": [
            "               Number Position\n",
            "Name                          \n",
            "R.J. Hunter      28.0       SG\n",
            "Jonas Jerebko     8.0       PF\n"
          ],
          "name": "stdout"
        }
      ]
    },
    {
      "cell_type": "code",
      "metadata": {
        "id": "vsT4MgV8XqAJ",
        "colab_type": "code",
        "colab": {
          "base_uri": "https://localhost:8080/",
          "height": 283
        },
        "outputId": "07ec0888-2cf3-4412-d3d9-6fb6562c87e9"
      },
      "source": [
        "# retrieving all rows and 2 columns by iloc method  \n",
        "row2 = df.iloc [:, [1, 2]]  \n",
        "print(row2) "
      ],
      "execution_count": 20,
      "outputs": [
        {
          "output_type": "stream",
          "text": [
            "               Number Position\n",
            "Name                          \n",
            "Avery Bradley     0.0       PG\n",
            "Jae Crowder      99.0       SF\n",
            "John Holland     30.0       SG\n",
            "R.J. Hunter      28.0       SG\n",
            "Jonas Jerebko     8.0       PF\n",
            "...               ...      ...\n",
            "Shelvin Mack      8.0       PG\n",
            "Raul Neto        25.0       PG\n",
            "Tibor Pleiss     21.0        C\n",
            "Jeff Withey      24.0        C\n",
            "NaN               NaN      NaN\n",
            "\n",
            "[458 rows x 2 columns]\n"
          ],
          "name": "stdout"
        }
      ]
    }
  ]
}